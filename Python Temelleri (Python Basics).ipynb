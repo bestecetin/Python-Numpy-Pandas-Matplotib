{
 "cells": [
  {
   "cell_type": "code",
   "execution_count": 3,
   "id": "c8352c0a",
   "metadata": {},
   "outputs": [],
   "source": [
    "#DEGISKENLER"
   ]
  },
  {
   "cell_type": "code",
   "execution_count": 4,
   "id": "fc518214",
   "metadata": {},
   "outputs": [],
   "source": [
    "#integer\n",
    "sayi1=5\n",
    "sayi2=13"
   ]
  },
  {
   "cell_type": "code",
   "execution_count": 5,
   "id": "d56084c3",
   "metadata": {},
   "outputs": [],
   "source": [
    "ad=\"beste\" #string"
   ]
  },
  {
   "cell_type": "code",
   "execution_count": 10,
   "id": "de44953a",
   "metadata": {},
   "outputs": [],
   "source": [
    "ucret=8.2 #double/float"
   ]
  },
  {
   "cell_type": "code",
   "execution_count": 11,
   "id": "e5616f0d",
   "metadata": {},
   "outputs": [],
   "source": [
    "#degisken tanımlarken turkce karakter kullanmamalıyız.\n",
    "#degiskenlerin ilk harfi rakam olmamalı."
   ]
  },
  {
   "cell_type": "code",
   "execution_count": 13,
   "id": "229ae1db",
   "metadata": {},
   "outputs": [
    {
     "name": "stdout",
     "output_type": "stream",
     "text": [
      "18\n",
      "beste\n",
      "13.2\n"
     ]
    }
   ],
   "source": [
    "print(sayi1+sayi2)\n",
    "print(ad)\n",
    "print(sayi1+ucret)"
   ]
  },
  {
   "cell_type": "code",
   "execution_count": null,
   "id": "4ff54638",
   "metadata": {},
   "outputs": [],
   "source": [
    "#String"
   ]
  },
  {
   "cell_type": "code",
   "execution_count": 17,
   "id": "cfad7bd5",
   "metadata": {},
   "outputs": [
    {
     "data": {
      "text/plain": [
       "str"
      ]
     },
     "execution_count": 17,
     "metadata": {},
     "output_type": "execute_result"
    }
   ],
   "source": [
    "a=\"bugun 19 temmuz\"\n",
    "variable_type=type(a)\n",
    "#a'nın degisken tipini variable_type adlı degiskene atadık.\n",
    "variable_type"
   ]
  },
  {
   "cell_type": "code",
   "execution_count": 18,
   "id": "feb0670c",
   "metadata": {},
   "outputs": [
    {
     "data": {
      "text/plain": [
       "int"
      ]
     },
     "execution_count": 18,
     "metadata": {},
     "output_type": "execute_result"
    }
   ],
   "source": [
    "type(sayi1)"
   ]
  },
  {
   "cell_type": "code",
   "execution_count": 19,
   "id": "bdaf3441",
   "metadata": {},
   "outputs": [
    {
     "name": "stdout",
     "output_type": "stream",
     "text": [
      "bestecetin\n"
     ]
    }
   ],
   "source": [
    "var1=\"beste\"\n",
    "var2=\"cetin\"\n",
    "print(var1+var2)"
   ]
  },
  {
   "cell_type": "code",
   "execution_count": 21,
   "id": "0d741e82",
   "metadata": {},
   "outputs": [
    {
     "name": "stdout",
     "output_type": "stream",
     "text": [
      "123100\n"
     ]
    }
   ],
   "source": [
    "var3=\"123\"\n",
    "var4=\"100\"\n",
    "var5=var3+var4\n",
    "print(var5)"
   ]
  },
  {
   "cell_type": "code",
   "execution_count": 24,
   "id": "877e2996",
   "metadata": {},
   "outputs": [
    {
     "data": {
      "text/plain": [
       "6"
      ]
     },
     "execution_count": 24,
     "metadata": {},
     "output_type": "execute_result"
    }
   ],
   "source": [
    "#degiskenlerin uzunluğunu bulmak için leng() kullanılır.\n",
    "uzunluk=(len(var5))\n",
    "uzunluk"
   ]
  },
  {
   "cell_type": "code",
   "execution_count": 26,
   "id": "338af315",
   "metadata": {},
   "outputs": [
    {
     "data": {
      "text/plain": [
       "'3'"
      ]
     },
     "execution_count": 26,
     "metadata": {},
     "output_type": "execute_result"
    }
   ],
   "source": [
    "#var5 degiskeni icin 3'ü elde etmek istiyorsak...\n",
    "#python ve çogu programlama dilinde indexler 0'dan baslar.\n",
    "#yani 2. indexte 3 bulunuyor.\n",
    "var5[2]"
   ]
  },
  {
   "cell_type": "code",
   "execution_count": 27,
   "id": "381a1c3f",
   "metadata": {},
   "outputs": [],
   "source": [
    "#SAYILAR"
   ]
  },
  {
   "cell_type": "code",
   "execution_count": 28,
   "id": "5cf299e0",
   "metadata": {},
   "outputs": [
    {
     "data": {
      "text/plain": [
       "-50"
      ]
     },
     "execution_count": 28,
     "metadata": {},
     "output_type": "execute_result"
    }
   ],
   "source": [
    "#integer sayı (tam sayı) \n",
    "integer=-50\n",
    "integer"
   ]
  },
  {
   "cell_type": "code",
   "execution_count": 29,
   "id": "642975b4",
   "metadata": {},
   "outputs": [
    {
     "data": {
      "text/plain": [
       "-30.7"
      ]
     },
     "execution_count": 29,
     "metadata": {},
     "output_type": "execute_result"
    }
   ],
   "source": [
    "#float, double (ondalıklı sayı)\n",
    "floatsayi=-30.7\n",
    "floatsayi"
   ]
  },
  {
   "cell_type": "code",
   "execution_count": 30,
   "id": "346119a0",
   "metadata": {},
   "outputs": [
    {
     "data": {
      "text/plain": [
       "10.0"
      ]
     },
     "execution_count": 30,
     "metadata": {},
     "output_type": "execute_result"
    }
   ],
   "source": [
    "float(10) #int'i float'a cevirme islemi"
   ]
  },
  {
   "cell_type": "code",
   "execution_count": 34,
   "id": "9a10cc6d",
   "metadata": {},
   "outputs": [
    {
     "data": {
      "text/plain": [
       "int"
      ]
     },
     "execution_count": 34,
     "metadata": {},
     "output_type": "execute_result"
    }
   ],
   "source": [
    "type(integer)"
   ]
  },
  {
   "cell_type": "code",
   "execution_count": 35,
   "id": "e8efbef9",
   "metadata": {},
   "outputs": [
    {
     "data": {
      "text/plain": [
       "float"
      ]
     },
     "execution_count": 35,
     "metadata": {},
     "output_type": "execute_result"
    }
   ],
   "source": [
    "type(floatsayi)"
   ]
  },
  {
   "cell_type": "code",
   "execution_count": 36,
   "id": "97db3f8d",
   "metadata": {},
   "outputs": [
    {
     "data": {
      "text/plain": [
       "str"
      ]
     },
     "execution_count": 36,
     "metadata": {},
     "output_type": "execute_result"
    }
   ],
   "source": [
    "type(\"beste\")"
   ]
  },
  {
   "cell_type": "code",
   "execution_count": 37,
   "id": "30436635",
   "metadata": {},
   "outputs": [],
   "source": [
    "#FUNCTIONS"
   ]
  },
  {
   "cell_type": "code",
   "execution_count": 38,
   "id": "58893c94",
   "metadata": {},
   "outputs": [
    {
     "data": {
      "text/plain": [
       "-31"
      ]
     },
     "execution_count": 38,
     "metadata": {},
     "output_type": "execute_result"
    }
   ],
   "source": [
    "#bir sayıyı yuvarlamak için round kullanıyoruz.\n",
    "round(floatsayi)"
   ]
  },
  {
   "cell_type": "code",
   "execution_count": 41,
   "id": "6b6db5c4",
   "metadata": {},
   "outputs": [
    {
     "data": {
      "text/plain": [
       "int"
      ]
     },
     "execution_count": 41,
     "metadata": {},
     "output_type": "execute_result"
    }
   ],
   "source": [
    "#string int donusumu\n",
    "myNumber=\"2000\"\n",
    "type(int(myNumber))"
   ]
  },
  {
   "cell_type": "code",
   "execution_count": 50,
   "id": "648a48c7",
   "metadata": {},
   "outputs": [],
   "source": [
    "#user defined functions"
   ]
  },
  {
   "cell_type": "code",
   "execution_count": 51,
   "id": "ffb1e593",
   "metadata": {},
   "outputs": [],
   "source": [
    "def myFunction(say1,say2):\n",
    "    output=(((say1+say2)*50)/100.0)*say1/say2\n",
    "    return output\n",
    "    "
   ]
  },
  {
   "cell_type": "code",
   "execution_count": 52,
   "id": "aa52c9ac",
   "metadata": {},
   "outputs": [
    {
     "data": {
      "text/plain": [
       "0.75"
      ]
     },
     "execution_count": 52,
     "metadata": {},
     "output_type": "execute_result"
    }
   ],
   "source": [
    "myFunction(1,2)"
   ]
  },
  {
   "cell_type": "code",
   "execution_count": 53,
   "id": "ac942812",
   "metadata": {},
   "outputs": [],
   "source": [
    "#default ve flexible functions"
   ]
  },
  {
   "cell_type": "code",
   "execution_count": 54,
   "id": "c466a62f",
   "metadata": {},
   "outputs": [],
   "source": [
    "def cember_cevresi_hesaplama(r,pi=3.14): #burada pi degiskenine 3.14 default degerini atamıs olduk.\n",
    "    output= 2*pi*r\n",
    "    return output"
   ]
  },
  {
   "cell_type": "code",
   "execution_count": 55,
   "id": "91a28a3b",
   "metadata": {},
   "outputs": [
    {
     "data": {
      "text/plain": [
       "12.56"
      ]
     },
     "execution_count": 55,
     "metadata": {},
     "output_type": "execute_result"
    }
   ],
   "source": [
    "cember_cevresi_hesaplama(2)"
   ]
  },
  {
   "cell_type": "code",
   "execution_count": 60,
   "id": "ce05c2a3",
   "metadata": {},
   "outputs": [],
   "source": [
    "def hesapla(boy,kilo,*args): #ikinci parametreden sonra istediğimiz kadar parametre yazabiliriz.\n",
    "    output=(boy+kilo)*args[0] #parametreye ücüncü yazdığımızı isleme sokar.\n",
    "    return output"
   ]
  },
  {
   "cell_type": "code",
   "execution_count": 62,
   "id": "03146332",
   "metadata": {},
   "outputs": [
    {
     "data": {
      "text/plain": [
       "880"
      ]
     },
     "execution_count": 62,
     "metadata": {},
     "output_type": "execute_result"
    }
   ],
   "source": [
    "hesapla(170,50,4)"
   ]
  },
  {
   "cell_type": "code",
   "execution_count": 69,
   "id": "c318122f",
   "metadata": {},
   "outputs": [
    {
     "data": {
      "text/plain": [
       "3.14"
      ]
     },
     "execution_count": 69,
     "metadata": {},
     "output_type": "execute_result"
    }
   ],
   "source": [
    "round(3.14,2)"
   ]
  },
  {
   "cell_type": "code",
   "execution_count": 83,
   "id": "9242d859",
   "metadata": {},
   "outputs": [
    {
     "name": "stdout",
     "output_type": "stream",
     "text": [
      "Vücut kitle indexi: 17.99307958477509\n",
      "<class 'str'>\n",
      "52.0\n"
     ]
    },
    {
     "data": {
      "text/plain": [
       "156"
      ]
     },
     "execution_count": 83,
     "metadata": {},
     "output_type": "execute_result"
    }
   ],
   "source": [
    "ad=\"beste\"\n",
    "boy=1.70\n",
    "kilo=52\n",
    "def vucutKitleIndexi(boy,kilo,ad,*args,cinsiyet=\"kadin\"): #default parametreler en sona yazılır.\n",
    "    print(\"Vücut kitle indexi:\",kilo/(boy*boy))\n",
    "    print(type(ad))\n",
    "    print(float(kilo))\n",
    "    output=args[0]*kilo\n",
    "    return output\n",
    "vucutKitleIndexi(boy,kilo,ad,3)"
   ]
  },
  {
   "cell_type": "code",
   "execution_count": 84,
   "id": "96184fe6",
   "metadata": {},
   "outputs": [],
   "source": [
    "#lambda function"
   ]
  },
  {
   "cell_type": "code",
   "execution_count": 86,
   "id": "84a8a98f",
   "metadata": {},
   "outputs": [
    {
     "data": {
      "text/plain": [
       "9"
      ]
     },
     "execution_count": 86,
     "metadata": {},
     "output_type": "execute_result"
    }
   ],
   "source": [
    "def hesapla(x):\n",
    "    output=x*x\n",
    "    return output\n",
    "sonuc=hesapla(3)\n",
    "sonuc"
   ]
  },
  {
   "cell_type": "code",
   "execution_count": 89,
   "id": "15bd9213",
   "metadata": {},
   "outputs": [
    {
     "data": {
      "text/plain": [
       "9"
      ]
     },
     "execution_count": 89,
     "metadata": {},
     "output_type": "execute_result"
    }
   ],
   "source": [
    "sonuc2=lambda x: x*x #yukarıdaki fonksiyonun aynısı sadece yazma süremiz kısaldı \n",
    "sonuc2(3)"
   ]
  },
  {
   "cell_type": "code",
   "execution_count": null,
   "id": "f4436a66",
   "metadata": {},
   "outputs": [],
   "source": [
    "#List"
   ]
  },
  {
   "cell_type": "code",
   "execution_count": 101,
   "id": "e11038c7",
   "metadata": {},
   "outputs": [
    {
     "data": {
      "text/plain": [
       "list"
      ]
     },
     "execution_count": 101,
     "metadata": {},
     "output_type": "execute_result"
    }
   ],
   "source": [
    "liste=[1,2,3,4,5,6]\n",
    "type(liste)"
   ]
  },
  {
   "cell_type": "code",
   "execution_count": 92,
   "id": "4c261f47",
   "metadata": {},
   "outputs": [
    {
     "data": {
      "text/plain": [
       "6"
      ]
     },
     "execution_count": 92,
     "metadata": {},
     "output_type": "execute_result"
    }
   ],
   "source": [
    "liste[-1] #-1.ci eleman yani sonuncu elemanı verir"
   ]
  },
  {
   "cell_type": "code",
   "execution_count": 93,
   "id": "48cfa229",
   "metadata": {},
   "outputs": [
    {
     "data": {
      "text/plain": [
       "[1, 2, 3]"
      ]
     },
     "execution_count": 93,
     "metadata": {},
     "output_type": "execute_result"
    }
   ],
   "source": [
    "liste[0:3] #sıfırıncı indexten basla 3 tane "
   ]
  },
  {
   "cell_type": "code",
   "execution_count": 94,
   "id": "dcb83d5c",
   "metadata": {},
   "outputs": [],
   "source": [
    "liste.append(7)"
   ]
  },
  {
   "cell_type": "code",
   "execution_count": 95,
   "id": "abd6bd0f",
   "metadata": {},
   "outputs": [
    {
     "data": {
      "text/plain": [
       "[1, 2, 3, 4, 5, 6, 7]"
      ]
     },
     "execution_count": 95,
     "metadata": {},
     "output_type": "execute_result"
    }
   ],
   "source": [
    "liste"
   ]
  },
  {
   "cell_type": "code",
   "execution_count": 96,
   "id": "8085947f",
   "metadata": {},
   "outputs": [],
   "source": [
    "liste.remove(7)"
   ]
  },
  {
   "cell_type": "code",
   "execution_count": 97,
   "id": "2e65b606",
   "metadata": {},
   "outputs": [
    {
     "data": {
      "text/plain": [
       "[1, 2, 3, 4, 5, 6]"
      ]
     },
     "execution_count": 97,
     "metadata": {},
     "output_type": "execute_result"
    }
   ],
   "source": [
    "liste"
   ]
  },
  {
   "cell_type": "code",
   "execution_count": 99,
   "id": "be69c113",
   "metadata": {},
   "outputs": [],
   "source": [
    "liste.reverse()"
   ]
  },
  {
   "cell_type": "code",
   "execution_count": 100,
   "id": "6c401b72",
   "metadata": {},
   "outputs": [
    {
     "data": {
      "text/plain": [
       "[6, 5, 4, 3, 2, 1]"
      ]
     },
     "execution_count": 100,
     "metadata": {},
     "output_type": "execute_result"
    }
   ],
   "source": [
    "liste"
   ]
  },
  {
   "cell_type": "code",
   "execution_count": 102,
   "id": "45803402",
   "metadata": {},
   "outputs": [],
   "source": [
    "liste2=[0,2,6,8,3,4]\n",
    "liste2.sort()"
   ]
  },
  {
   "cell_type": "code",
   "execution_count": 104,
   "id": "2dadb7d3",
   "metadata": {},
   "outputs": [
    {
     "data": {
      "text/plain": [
       "[0, 2, 3, 4, 6, 8]"
      ]
     },
     "execution_count": 104,
     "metadata": {},
     "output_type": "execute_result"
    }
   ],
   "source": [
    "liste2"
   ]
  },
  {
   "cell_type": "code",
   "execution_count": null,
   "id": "b90a9b1a",
   "metadata": {},
   "outputs": [],
   "source": [
    "string_int_list=[1,2,3,\"a\",\"b\",\"c\"]"
   ]
  },
  {
   "cell_type": "code",
   "execution_count": 105,
   "id": "8a15b46c",
   "metadata": {},
   "outputs": [],
   "source": [
    "#TUPLE"
   ]
  },
  {
   "cell_type": "code",
   "execution_count": 2,
   "id": "bbc0f71c",
   "metadata": {},
   "outputs": [],
   "source": [
    "t=(1,2,3,3,4,5,6)"
   ]
  },
  {
   "cell_type": "code",
   "execution_count": 3,
   "id": "0ed9e665",
   "metadata": {},
   "outputs": [
    {
     "data": {
      "text/plain": [
       "2"
      ]
     },
     "execution_count": 3,
     "metadata": {},
     "output_type": "execute_result"
    }
   ],
   "source": [
    "t.count(3) #tuple'ın içinde 3'ten kaç tane var gösterir."
   ]
  },
  {
   "cell_type": "code",
   "execution_count": 4,
   "id": "585f4b8a",
   "metadata": {},
   "outputs": [
    {
     "data": {
      "text/plain": [
       "5"
      ]
     },
     "execution_count": 4,
     "metadata": {},
     "output_type": "execute_result"
    }
   ],
   "source": [
    "t.index(5)#5'in indexini döndürür."
   ]
  },
  {
   "cell_type": "code",
   "execution_count": 5,
   "id": "4710e799",
   "metadata": {},
   "outputs": [],
   "source": [
    "#DICTIONARY"
   ]
  },
  {
   "cell_type": "code",
   "execution_count": 6,
   "id": "7ae5b3eb",
   "metadata": {},
   "outputs": [],
   "source": [
    "dictionary={\"arda\":31,\"beste\":25,\"yasemin\":43} #arda, beste,yasemin = keys #31,25,43 = values "
   ]
  },
  {
   "cell_type": "code",
   "execution_count": 7,
   "id": "cecc7834",
   "metadata": {},
   "outputs": [
    {
     "data": {
      "text/plain": [
       "{'arda': 31, 'beste': 25, 'yasemin': 43}"
      ]
     },
     "execution_count": 7,
     "metadata": {},
     "output_type": "execute_result"
    }
   ],
   "source": [
    "dictionary"
   ]
  },
  {
   "cell_type": "code",
   "execution_count": 8,
   "id": "1c373133",
   "metadata": {},
   "outputs": [
    {
     "data": {
      "text/plain": [
       "31"
      ]
     },
     "execution_count": 8,
     "metadata": {},
     "output_type": "execute_result"
    }
   ],
   "source": [
    "dictionary[\"arda\"]"
   ]
  },
  {
   "cell_type": "code",
   "execution_count": 9,
   "id": "fe4686c7",
   "metadata": {},
   "outputs": [
    {
     "data": {
      "text/plain": [
       "int"
      ]
     },
     "execution_count": 9,
     "metadata": {},
     "output_type": "execute_result"
    }
   ],
   "source": [
    "type(dictionary[\"arda\"])"
   ]
  },
  {
   "cell_type": "code",
   "execution_count": 10,
   "id": "37d3954e",
   "metadata": {},
   "outputs": [
    {
     "data": {
      "text/plain": [
       "dict_keys(['arda', 'beste', 'yasemin'])"
      ]
     },
     "execution_count": 10,
     "metadata": {},
     "output_type": "execute_result"
    }
   ],
   "source": [
    "dictionary.keys()"
   ]
  },
  {
   "cell_type": "code",
   "execution_count": 11,
   "id": "60c8a851",
   "metadata": {},
   "outputs": [
    {
     "data": {
      "text/plain": [
       "dict_values([31, 25, 43])"
      ]
     },
     "execution_count": 11,
     "metadata": {},
     "output_type": "execute_result"
    }
   ],
   "source": [
    "dictionary.values()"
   ]
  },
  {
   "cell_type": "code",
   "execution_count": 14,
   "id": "33ebdfae",
   "metadata": {},
   "outputs": [],
   "source": [
    "def deneme():\n",
    "    d={\"arda\":31,\"beste\":25,\"yasemin\":43}\n",
    "    return d\n",
    "dic=deneme()"
   ]
  },
  {
   "cell_type": "code",
   "execution_count": 15,
   "id": "4119e7c1",
   "metadata": {},
   "outputs": [
    {
     "data": {
      "text/plain": [
       "dict"
      ]
     },
     "execution_count": 15,
     "metadata": {},
     "output_type": "execute_result"
    }
   ],
   "source": [
    "type(dic)"
   ]
  },
  {
   "cell_type": "code",
   "execution_count": 16,
   "id": "7f2780d0",
   "metadata": {},
   "outputs": [
    {
     "data": {
      "text/plain": [
       "25"
      ]
     },
     "execution_count": 16,
     "metadata": {},
     "output_type": "execute_result"
    }
   ],
   "source": [
    "dic[\"beste\"]"
   ]
  },
  {
   "cell_type": "code",
   "execution_count": 17,
   "id": "d9afc1e7",
   "metadata": {},
   "outputs": [],
   "source": [
    "#CONDITIONALS"
   ]
  },
  {
   "cell_type": "code",
   "execution_count": 19,
   "id": "e8fe4dcc",
   "metadata": {},
   "outputs": [
    {
     "data": {
      "text/plain": [
       "True"
      ]
     },
     "execution_count": 19,
     "metadata": {},
     "output_type": "execute_result"
    }
   ],
   "source": [
    "1==1"
   ]
  },
  {
   "cell_type": "code",
   "execution_count": 20,
   "id": "a07ee67f",
   "metadata": {},
   "outputs": [
    {
     "data": {
      "text/plain": [
       "False"
      ]
     },
     "execution_count": 20,
     "metadata": {},
     "output_type": "execute_result"
    }
   ],
   "source": [
    "1==3"
   ]
  },
  {
   "cell_type": "code",
   "execution_count": 21,
   "id": "c444eb1a",
   "metadata": {},
   "outputs": [
    {
     "data": {
      "text/plain": [
       "False"
      ]
     },
     "execution_count": 21,
     "metadata": {},
     "output_type": "execute_result"
    }
   ],
   "source": [
    "1!=1"
   ]
  },
  {
   "cell_type": "code",
   "execution_count": 22,
   "id": "2f63ea74",
   "metadata": {},
   "outputs": [
    {
     "data": {
      "text/plain": [
       "False"
      ]
     },
     "execution_count": 22,
     "metadata": {},
     "output_type": "execute_result"
    }
   ],
   "source": [
    "1>5"
   ]
  },
  {
   "cell_type": "code",
   "execution_count": 24,
   "id": "62cfeb3b",
   "metadata": {},
   "outputs": [
    {
     "data": {
      "text/plain": [
       "True"
      ]
     },
     "execution_count": 24,
     "metadata": {},
     "output_type": "execute_result"
    }
   ],
   "source": [
    "True == True"
   ]
  },
  {
   "cell_type": "code",
   "execution_count": 25,
   "id": "dfc453c8",
   "metadata": {},
   "outputs": [
    {
     "data": {
      "text/plain": [
       "True"
      ]
     },
     "execution_count": 25,
     "metadata": {},
     "output_type": "execute_result"
    }
   ],
   "source": [
    "1>0 and 5>4"
   ]
  },
  {
   "cell_type": "code",
   "execution_count": 27,
   "id": "ce8fb72d",
   "metadata": {},
   "outputs": [
    {
     "data": {
      "text/plain": [
       "True"
      ]
     },
     "execution_count": 27,
     "metadata": {},
     "output_type": "execute_result"
    }
   ],
   "source": [
    "1>0 or 5>6"
   ]
  },
  {
   "cell_type": "code",
   "execution_count": 29,
   "id": "fec91c6b",
   "metadata": {},
   "outputs": [
    {
     "name": "stdout",
     "output_type": "stream",
     "text": [
      "num2 büyüktür num1'den\n"
     ]
    }
   ],
   "source": [
    "num1=10\n",
    "num2=20\n",
    "\n",
    "if(num2>num1):\n",
    "    print(\"num2 büyüktür num1'den\")\n",
    "elif(num2==num1):\n",
    "    print(\"num2 eşittir num1\")\n",
    "else:\n",
    "    print(\"num1 büyüktür num2'den\")"
   ]
  },
  {
   "cell_type": "code",
   "execution_count": 32,
   "id": "66e0791a",
   "metadata": {},
   "outputs": [
    {
     "name": "stdout",
     "output_type": "stream",
     "text": [
      "3 sayısı listenin icinde.\n"
     ]
    }
   ],
   "source": [
    "liste=[1,2,3,4,5]\n",
    "\n",
    "value=3\n",
    "if value in liste:\n",
    "    print(\"{} sayısı listenin icinde.\".format(value))\n",
    "else: \n",
    "    print(\"{} sayısı listenin icinde degil.\".format(value))"
   ]
  },
  {
   "cell_type": "code",
   "execution_count": 33,
   "id": "bc04a791",
   "metadata": {},
   "outputs": [],
   "source": [
    "keys=dictionary.keys()"
   ]
  },
  {
   "cell_type": "code",
   "execution_count": 34,
   "id": "ad7d3561",
   "metadata": {},
   "outputs": [
    {
     "name": "stdout",
     "output_type": "stream",
     "text": [
      "listenin icinde\n"
     ]
    }
   ],
   "source": [
    "if \"yasemin\" in keys:\n",
    "    print(\"listenin icinde\")\n",
    "else:\n",
    "    print(\"listenin icinde degil\")"
   ]
  },
  {
   "cell_type": "code",
   "execution_count": 39,
   "id": "f53e8320",
   "metadata": {},
   "outputs": [],
   "source": [
    "def yuzyıl(year):\n",
    "    if(1<year<=109):\n",
    "        print(\"2.ci yüzyıl.\")\n",
    "    elif(109<year<=1640):\n",
    "        print(\"17.ci yüzyıl.\")\n",
    "    elif(1640<year<=2000):\n",
    "        print(\"20.inci yüzyıl.\")\n",
    "    else:\n",
    "        print(\"21.ci yüzyıl.\")"
   ]
  },
  {
   "cell_type": "code",
   "execution_count": 40,
   "id": "7533ba11",
   "metadata": {},
   "outputs": [
    {
     "name": "stdout",
     "output_type": "stream",
     "text": [
      "2.ci yüzyıl.\n",
      "17.ci yüzyıl.\n",
      "20.inci yüzyıl.\n",
      "21.ci yüzyıl.\n"
     ]
    }
   ],
   "source": [
    "yuzyıl(4)\n",
    "yuzyıl(1455)\n",
    "yuzyıl(1997)\n",
    "yuzyıl(2022)"
   ]
  },
  {
   "cell_type": "code",
   "execution_count": 42,
   "id": "70bbd7ee",
   "metadata": {},
   "outputs": [],
   "source": [
    "def yuzyıl1(year):\n",
    "    s_year=str(year)\n",
    "    if(len(s_year)<3):\n",
    "        return 1\n",
    "    elif(len(s_year)==3):\n",
    "        if(s_year[1:3]==\"00\"): #100, 200, 300 ... 900\n",
    "            return int(s_year[0])\n",
    "        else:\n",
    "            return int(s_year[0])+1 #190, 250, 450\n",
    "    else:\n",
    "        if(s_year[2:4]==\"00\"): #1700, 1900, 1100\n",
    "            return int(s_year[:2]) \n",
    "        else:\n",
    "            return int(s_year[:2])+1 #1705, 1645"
   ]
  },
  {
   "cell_type": "code",
   "execution_count": 45,
   "id": "23649e6e",
   "metadata": {},
   "outputs": [
    {
     "data": {
      "text/plain": [
       "21"
      ]
     },
     "execution_count": 45,
     "metadata": {},
     "output_type": "execute_result"
    }
   ],
   "source": [
    "yuzyıl1(2005)"
   ]
  },
  {
   "cell_type": "code",
   "execution_count": 46,
   "id": "90e8844c",
   "metadata": {},
   "outputs": [
    {
     "data": {
      "text/plain": [
       "17"
      ]
     },
     "execution_count": 46,
     "metadata": {},
     "output_type": "execute_result"
    }
   ],
   "source": [
    "yuzyıl1(1700)"
   ]
  },
  {
   "cell_type": "code",
   "execution_count": 47,
   "id": "825a1f11",
   "metadata": {},
   "outputs": [
    {
     "data": {
      "text/plain": [
       "1"
      ]
     },
     "execution_count": 47,
     "metadata": {},
     "output_type": "execute_result"
    }
   ],
   "source": [
    "yuzyıl1(17)"
   ]
  },
  {
   "cell_type": "code",
   "execution_count": 48,
   "id": "1bd6c89f",
   "metadata": {},
   "outputs": [
    {
     "data": {
      "text/plain": [
       "2"
      ]
     },
     "execution_count": 48,
     "metadata": {},
     "output_type": "execute_result"
    }
   ],
   "source": [
    "yuzyıl1(101)"
   ]
  },
  {
   "cell_type": "code",
   "execution_count": 49,
   "id": "4704f54d",
   "metadata": {},
   "outputs": [
    {
     "data": {
      "text/plain": [
       "10"
      ]
     },
     "execution_count": 49,
     "metadata": {},
     "output_type": "execute_result"
    }
   ],
   "source": [
    "yuzyıl1(999)"
   ]
  },
  {
   "cell_type": "code",
   "execution_count": 50,
   "id": "738725d7",
   "metadata": {},
   "outputs": [
    {
     "data": {
      "text/plain": [
       "10"
      ]
     },
     "execution_count": 50,
     "metadata": {},
     "output_type": "execute_result"
    }
   ],
   "source": [
    "yuzyıl1(1000)"
   ]
  },
  {
   "cell_type": "code",
   "execution_count": 51,
   "id": "e1f700a1",
   "metadata": {},
   "outputs": [],
   "source": [
    "#LOOPS"
   ]
  },
  {
   "cell_type": "code",
   "execution_count": 52,
   "id": "edd547c6",
   "metadata": {},
   "outputs": [
    {
     "name": "stdout",
     "output_type": "stream",
     "text": [
      "1\n",
      "2\n",
      "3\n",
      "4\n",
      "5\n",
      "6\n",
      "7\n",
      "8\n",
      "9\n",
      "10\n"
     ]
    }
   ],
   "source": [
    "#for loop\n",
    "\n",
    "for each in range(1,11): #1 dahil 11 dahil degil\n",
    "    print(each)"
   ]
  },
  {
   "cell_type": "code",
   "execution_count": 53,
   "id": "ce3425ad",
   "metadata": {},
   "outputs": [
    {
     "name": "stdout",
     "output_type": "stream",
     "text": [
      "a\n",
      "r\n",
      "d\n",
      "a\n"
     ]
    }
   ],
   "source": [
    "for each in \"arda\":\n",
    "    print(each)"
   ]
  },
  {
   "cell_type": "code",
   "execution_count": 55,
   "id": "ac4dc04b",
   "metadata": {},
   "outputs": [
    {
     "name": "stdout",
     "output_type": "stream",
     "text": [
      "beste\n",
      "cetin\n"
     ]
    }
   ],
   "source": [
    "for each in \"beste cetin\".split(): #stringi bosluklara gore ayıracak.\n",
    "    print(each)"
   ]
  },
  {
   "cell_type": "code",
   "execution_count": 56,
   "id": "6eab2717",
   "metadata": {},
   "outputs": [
    {
     "data": {
      "text/plain": [
       "40"
      ]
     },
     "execution_count": 56,
     "metadata": {},
     "output_type": "execute_result"
    }
   ],
   "source": [
    "liste=[1,4,5,6,3,2,8,9,2]\n",
    "sum(liste) #listedeki elemanları toplar"
   ]
  },
  {
   "cell_type": "code",
   "execution_count": 58,
   "id": "315d9674",
   "metadata": {},
   "outputs": [
    {
     "data": {
      "text/plain": [
       "40"
      ]
     },
     "execution_count": 58,
     "metadata": {},
     "output_type": "execute_result"
    }
   ],
   "source": [
    "sum=0\n",
    "for i in liste:\n",
    "    sum=sum+i\n",
    "sum"
   ]
  },
  {
   "cell_type": "code",
   "execution_count": 59,
   "id": "8a1c3518",
   "metadata": {},
   "outputs": [
    {
     "name": "stdout",
     "output_type": "stream",
     "text": [
      "0\n",
      "1\n",
      "2\n",
      "3\n"
     ]
    }
   ],
   "source": [
    "#while loop\n",
    "\n",
    "i=0\n",
    "while(i<4):\n",
    "    print(i)\n",
    "    i=i+1"
   ]
  },
  {
   "cell_type": "code",
   "execution_count": 61,
   "id": "fe171d3d",
   "metadata": {},
   "outputs": [
    {
     "data": {
      "text/plain": [
       "40"
      ]
     },
     "execution_count": 61,
     "metadata": {},
     "output_type": "execute_result"
    }
   ],
   "source": [
    "sinir=len(liste)\n",
    "each=0\n",
    "count=0\n",
    "while(each<sinir):\n",
    "    count=count+liste[each]\n",
    "    each= each +1\n",
    "count"
   ]
  },
  {
   "cell_type": "code",
   "execution_count": 78,
   "id": "4304f5c9",
   "metadata": {},
   "outputs": [
    {
     "data": {
      "text/plain": [
       "89"
      ]
     },
     "execution_count": 78,
     "metadata": {},
     "output_type": "execute_result"
    }
   ],
   "source": [
    "#listenin icindeki en buyuk elemanı bulma.\n",
    "liste=[0,1,2,5,6,-500,56,23,89]\n",
    "liste.sort()\n",
    "liste[-1]"
   ]
  },
  {
   "cell_type": "code",
   "execution_count": 85,
   "id": "e9c74ef3",
   "metadata": {},
   "outputs": [
    {
     "data": {
      "text/plain": [
       "-500"
      ]
     },
     "execution_count": 85,
     "metadata": {},
     "output_type": "execute_result"
    }
   ],
   "source": [
    "#listenin icindeki en kucuk elemanı bulma.\n",
    "min=liste[0]\n",
    "for i in liste:\n",
    "    if(i<min):\n",
    "        min=i\n",
    "    else:\n",
    "        continue\n",
    "min"
   ]
  }
 ],
 "metadata": {
  "kernelspec": {
   "display_name": "Python 3 (ipykernel)",
   "language": "python",
   "name": "python3"
  },
  "language_info": {
   "codemirror_mode": {
    "name": "ipython",
    "version": 3
   },
   "file_extension": ".py",
   "mimetype": "text/x-python",
   "name": "python",
   "nbconvert_exporter": "python",
   "pygments_lexer": "ipython3",
   "version": "3.9.7"
  }
 },
 "nbformat": 4,
 "nbformat_minor": 5
}
