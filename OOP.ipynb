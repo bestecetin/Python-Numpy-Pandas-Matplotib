{
 "cells": [
  {
   "cell_type": "code",
   "execution_count": 86,
   "id": "bdfafd2a",
   "metadata": {},
   "outputs": [],
   "source": [
    "class Calisan:\n",
    "    zam_orani=1.5\n",
    "    counter=0\n",
    "    def __init__(self,ad,soyad,maas):\n",
    "        self.ad=ad\n",
    "        self.soyad=soyad\n",
    "        self.maas=maas\n",
    "        self.email=ad+soyad+\"@arba.com\"\n",
    "        Calisan.counter=Calisan.counter+1\n",
    "    def giveNameSurname(self):\n",
    "        return self.ad+\" \"+self.soyad\n",
    "    def zamYap(self):\n",
    "        self.maas=self.maas+self.maas*self.zam_orani"
   ]
  },
  {
   "cell_type": "code",
   "execution_count": 87,
   "id": "11fe92ca",
   "metadata": {},
   "outputs": [
    {
     "name": "stdout",
     "output_type": "stream",
     "text": [
      "20000\n"
     ]
    }
   ],
   "source": [
    "burak=Calisan(\"burak\",\"orhan\",20000)\n",
    "print(burak.maas)"
   ]
  },
  {
   "cell_type": "code",
   "execution_count": 88,
   "id": "bd1da55e",
   "metadata": {},
   "outputs": [
    {
     "data": {
      "text/plain": [
       "'burak orhan'"
      ]
     },
     "execution_count": 88,
     "metadata": {},
     "output_type": "execute_result"
    }
   ],
   "source": [
    "burak.giveNameSurname()"
   ]
  },
  {
   "cell_type": "code",
   "execution_count": 89,
   "id": "b63708ed",
   "metadata": {},
   "outputs": [
    {
     "data": {
      "text/plain": [
       "50000.0"
      ]
     },
     "execution_count": 89,
     "metadata": {},
     "output_type": "execute_result"
    }
   ],
   "source": [
    "burak.zamYap()\n",
    "burak.maas"
   ]
  },
  {
   "cell_type": "code",
   "execution_count": 90,
   "id": "da4d5439",
   "metadata": {},
   "outputs": [],
   "source": [
    "gorkem=Calisan(\"gorkem\",\"aydan\",18000)"
   ]
  },
  {
   "cell_type": "raw",
   "id": "6240a1ff",
   "metadata": {},
   "source": [
    "Calisan.counter"
   ]
  },
  {
   "cell_type": "code",
   "execution_count": 91,
   "id": "02dd820f",
   "metadata": {},
   "outputs": [],
   "source": [
    "zehra=Calisan(\"zehra\",\"gul\",25000)"
   ]
  },
  {
   "cell_type": "code",
   "execution_count": 92,
   "id": "1515c6b3",
   "metadata": {},
   "outputs": [],
   "source": [
    "calisanlar=[burak,gorkem,zehra]"
   ]
  },
  {
   "cell_type": "code",
   "execution_count": 98,
   "id": "cc05e28f",
   "metadata": {},
   "outputs": [
    {
     "name": "stdout",
     "output_type": "stream",
     "text": [
      "50000.0\n",
      "burak orhan\n"
     ]
    }
   ],
   "source": [
    "#en cok maası alanı hesaplama\n",
    "max=-1\n",
    "index=0\n",
    "for i in calisanlar:\n",
    "    if(i.maas>max):\n",
    "        max=i.maas\n",
    "        index=i\n",
    "print(max)\n",
    "print(index.giveNameSurname())"
   ]
  }
 ],
 "metadata": {
  "kernelspec": {
   "display_name": "Python 3 (ipykernel)",
   "language": "python",
   "name": "python3"
  },
  "language_info": {
   "codemirror_mode": {
    "name": "ipython",
    "version": 3
   },
   "file_extension": ".py",
   "mimetype": "text/x-python",
   "name": "python",
   "nbconvert_exporter": "python",
   "pygments_lexer": "ipython3",
   "version": "3.9.7"
  }
 },
 "nbformat": 4,
 "nbformat_minor": 5
}
