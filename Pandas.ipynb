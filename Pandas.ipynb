{
 "cells": [
  {
   "cell_type": "code",
   "execution_count": 1,
   "id": "11bc2b20",
   "metadata": {},
   "outputs": [],
   "source": [
    "#pandas dataframeler icin hizli ve etkili \n",
    "#csv ve text dosyalarına acıp inceleyip sonuclarımızı da bu dosya tiplerine rahat bir sekilde kaydedebiliriz.\n",
    "#missing data icin pandas isimizi kolaylastiriyor.\n",
    "#reshape yapıp datayı daha hızlı bir sekilde kullanabiliriz.\n",
    "#slicing indexing kolay\n",
    "#times series data analizinde çok yardımcı \n",
    "#en önemlisi hız acısından optimize edilmis hizli bir kutuphane olması."
   ]
  },
  {
   "cell_type": "code",
   "execution_count": 2,
   "id": "0ec6e12b",
   "metadata": {},
   "outputs": [],
   "source": [
    "import pandas as pd"
   ]
  },
  {
   "cell_type": "code",
   "execution_count": 32,
   "id": "c2533f96",
   "metadata": {},
   "outputs": [],
   "source": [
    "dictionary={\"NAME\":[\"beste\",\"arda\",\"burak\",\"zehra\",\"gorkem\",\"arba\"],\n",
    "            \"AGE\":[25,31,20,28,21,1],\n",
    "            \"MAAS\":[900,850,200,450,150,0]}\n",
    "dataFrame1=pd.DataFrame(dictionary)"
   ]
  },
  {
   "cell_type": "code",
   "execution_count": 33,
   "id": "896ba0bc",
   "metadata": {},
   "outputs": [
    {
     "data": {
      "text/html": [
       "<div>\n",
       "<style scoped>\n",
       "    .dataframe tbody tr th:only-of-type {\n",
       "        vertical-align: middle;\n",
       "    }\n",
       "\n",
       "    .dataframe tbody tr th {\n",
       "        vertical-align: top;\n",
       "    }\n",
       "\n",
       "    .dataframe thead th {\n",
       "        text-align: right;\n",
       "    }\n",
       "</style>\n",
       "<table border=\"1\" class=\"dataframe\">\n",
       "  <thead>\n",
       "    <tr style=\"text-align: right;\">\n",
       "      <th></th>\n",
       "      <th>NAME</th>\n",
       "      <th>AGE</th>\n",
       "      <th>MAAS</th>\n",
       "    </tr>\n",
       "  </thead>\n",
       "  <tbody>\n",
       "    <tr>\n",
       "      <th>0</th>\n",
       "      <td>beste</td>\n",
       "      <td>25</td>\n",
       "      <td>900</td>\n",
       "    </tr>\n",
       "    <tr>\n",
       "      <th>1</th>\n",
       "      <td>arda</td>\n",
       "      <td>31</td>\n",
       "      <td>850</td>\n",
       "    </tr>\n",
       "    <tr>\n",
       "      <th>2</th>\n",
       "      <td>burak</td>\n",
       "      <td>20</td>\n",
       "      <td>200</td>\n",
       "    </tr>\n",
       "    <tr>\n",
       "      <th>3</th>\n",
       "      <td>zehra</td>\n",
       "      <td>28</td>\n",
       "      <td>450</td>\n",
       "    </tr>\n",
       "    <tr>\n",
       "      <th>4</th>\n",
       "      <td>gorkem</td>\n",
       "      <td>21</td>\n",
       "      <td>150</td>\n",
       "    </tr>\n",
       "  </tbody>\n",
       "</table>\n",
       "</div>"
      ],
      "text/plain": [
       "     NAME  AGE  MAAS\n",
       "0   beste   25   900\n",
       "1    arda   31   850\n",
       "2   burak   20   200\n",
       "3   zehra   28   450\n",
       "4  gorkem   21   150"
      ]
     },
     "execution_count": 33,
     "metadata": {},
     "output_type": "execute_result"
    }
   ],
   "source": [
    "head=dataFrame1.head() #dataframe icindeki ilk 5 satırı göster demek..\n",
    "head"
   ]
  },
  {
   "cell_type": "code",
   "execution_count": 34,
   "id": "121c75c4",
   "metadata": {},
   "outputs": [
    {
     "data": {
      "text/html": [
       "<div>\n",
       "<style scoped>\n",
       "    .dataframe tbody tr th:only-of-type {\n",
       "        vertical-align: middle;\n",
       "    }\n",
       "\n",
       "    .dataframe tbody tr th {\n",
       "        vertical-align: top;\n",
       "    }\n",
       "\n",
       "    .dataframe thead th {\n",
       "        text-align: right;\n",
       "    }\n",
       "</style>\n",
       "<table border=\"1\" class=\"dataframe\">\n",
       "  <thead>\n",
       "    <tr style=\"text-align: right;\">\n",
       "      <th></th>\n",
       "      <th>NAME</th>\n",
       "      <th>AGE</th>\n",
       "      <th>MAAS</th>\n",
       "    </tr>\n",
       "  </thead>\n",
       "  <tbody>\n",
       "    <tr>\n",
       "      <th>1</th>\n",
       "      <td>arda</td>\n",
       "      <td>31</td>\n",
       "      <td>850</td>\n",
       "    </tr>\n",
       "    <tr>\n",
       "      <th>2</th>\n",
       "      <td>burak</td>\n",
       "      <td>20</td>\n",
       "      <td>200</td>\n",
       "    </tr>\n",
       "    <tr>\n",
       "      <th>3</th>\n",
       "      <td>zehra</td>\n",
       "      <td>28</td>\n",
       "      <td>450</td>\n",
       "    </tr>\n",
       "    <tr>\n",
       "      <th>4</th>\n",
       "      <td>gorkem</td>\n",
       "      <td>21</td>\n",
       "      <td>150</td>\n",
       "    </tr>\n",
       "    <tr>\n",
       "      <th>5</th>\n",
       "      <td>arba</td>\n",
       "      <td>1</td>\n",
       "      <td>0</td>\n",
       "    </tr>\n",
       "  </tbody>\n",
       "</table>\n",
       "</div>"
      ],
      "text/plain": [
       "     NAME  AGE  MAAS\n",
       "1    arda   31   850\n",
       "2   burak   20   200\n",
       "3   zehra   28   450\n",
       "4  gorkem   21   150\n",
       "5    arba    1     0"
      ]
     },
     "execution_count": 34,
     "metadata": {},
     "output_type": "execute_result"
    }
   ],
   "source": [
    "tail=dataFrame1.tail() #son 5 satırı gösterir \n",
    "tail"
   ]
  },
  {
   "cell_type": "code",
   "execution_count": 35,
   "id": "9c347e44",
   "metadata": {},
   "outputs": [],
   "source": [
    "uc=dataFrame1.head(3) #ilk 3 satırı göstermek icin kullanırız "
   ]
  },
  {
   "cell_type": "code",
   "execution_count": 36,
   "id": "34d5b4ff",
   "metadata": {},
   "outputs": [
    {
     "data": {
      "text/html": [
       "<div>\n",
       "<style scoped>\n",
       "    .dataframe tbody tr th:only-of-type {\n",
       "        vertical-align: middle;\n",
       "    }\n",
       "\n",
       "    .dataframe tbody tr th {\n",
       "        vertical-align: top;\n",
       "    }\n",
       "\n",
       "    .dataframe thead th {\n",
       "        text-align: right;\n",
       "    }\n",
       "</style>\n",
       "<table border=\"1\" class=\"dataframe\">\n",
       "  <thead>\n",
       "    <tr style=\"text-align: right;\">\n",
       "      <th></th>\n",
       "      <th>NAME</th>\n",
       "      <th>AGE</th>\n",
       "      <th>MAAS</th>\n",
       "    </tr>\n",
       "  </thead>\n",
       "  <tbody>\n",
       "    <tr>\n",
       "      <th>0</th>\n",
       "      <td>beste</td>\n",
       "      <td>25</td>\n",
       "      <td>900</td>\n",
       "    </tr>\n",
       "    <tr>\n",
       "      <th>1</th>\n",
       "      <td>arda</td>\n",
       "      <td>31</td>\n",
       "      <td>850</td>\n",
       "    </tr>\n",
       "    <tr>\n",
       "      <th>2</th>\n",
       "      <td>burak</td>\n",
       "      <td>20</td>\n",
       "      <td>200</td>\n",
       "    </tr>\n",
       "  </tbody>\n",
       "</table>\n",
       "</div>"
      ],
      "text/plain": [
       "    NAME  AGE  MAAS\n",
       "0  beste   25   900\n",
       "1   arda   31   850\n",
       "2  burak   20   200"
      ]
     },
     "execution_count": 36,
     "metadata": {},
     "output_type": "execute_result"
    }
   ],
   "source": [
    "uc"
   ]
  },
  {
   "cell_type": "code",
   "execution_count": 37,
   "id": "1b368a66",
   "metadata": {},
   "outputs": [],
   "source": [
    "#PANDAS BASIC METHOD"
   ]
  },
  {
   "cell_type": "code",
   "execution_count": 38,
   "id": "04545105",
   "metadata": {},
   "outputs": [
    {
     "name": "stdout",
     "output_type": "stream",
     "text": [
      "Index(['NAME', 'AGE', 'MAAS'], dtype='object')\n"
     ]
    }
   ],
   "source": [
    "print(dataFrame1.columns) #sutunların isimlerini verir"
   ]
  },
  {
   "cell_type": "code",
   "execution_count": 39,
   "id": "431732b8",
   "metadata": {},
   "outputs": [
    {
     "name": "stdout",
     "output_type": "stream",
     "text": [
      "<class 'pandas.core.frame.DataFrame'>\n",
      "RangeIndex: 6 entries, 0 to 5\n",
      "Data columns (total 3 columns):\n",
      " #   Column  Non-Null Count  Dtype \n",
      "---  ------  --------------  ----- \n",
      " 0   NAME    6 non-null      object\n",
      " 1   AGE     6 non-null      int64 \n",
      " 2   MAAS    6 non-null      int64 \n",
      "dtypes: int64(2), object(1)\n",
      "memory usage: 272.0+ bytes\n",
      "None\n"
     ]
    }
   ],
   "source": [
    "print(dataFrame1.info())\n",
    "#0'dan 5. indexe kadar 6 tane örnek oldugu, 3 tane column oldugunu \n",
    "#age'de 6 tane deger var hicbiri bos degil ve turu int \n",
    "#name'de 6 tane bos olmayan deger var ve turu object(string)\n",
    "#data types: iki tane int bir tane object var\n",
    "#memory kullanımını veriyor"
   ]
  },
  {
   "cell_type": "code",
   "execution_count": 40,
   "id": "229b6b11",
   "metadata": {},
   "outputs": [
    {
     "name": "stdout",
     "output_type": "stream",
     "text": [
      "NAME    object\n",
      "AGE      int64\n",
      "MAAS     int64\n",
      "dtype: object\n"
     ]
    }
   ],
   "source": [
    "print(dataFrame1.dtypes) #her bir feature'ın turunu yazdırıyor."
   ]
  },
  {
   "cell_type": "code",
   "execution_count": 41,
   "id": "5e4e0966",
   "metadata": {},
   "outputs": [
    {
     "name": "stdout",
     "output_type": "stream",
     "text": [
      "             AGE       MAAS\n",
      "count   6.000000    6.00000\n",
      "mean   21.000000  425.00000\n",
      "std    10.639549  377.82271\n",
      "min     1.000000    0.00000\n",
      "25%    20.250000  162.50000\n",
      "50%    23.000000  325.00000\n",
      "75%    27.250000  750.00000\n",
      "max    31.000000  900.00000\n"
     ]
    }
   ],
   "source": [
    "print(dataFrame1.describe())\n",
    "#age ve maas adında iki tane feature var. numeric feature=columns(age,maas)\n",
    "#count: 6 tane sample var \n",
    "#mean: dataframe icinde bulunan tum yasların ortalaması ve tum maasların ortalaması\n",
    "#min: minimum yas degeri 1 ve minumum maas 0 \n",
    "#max: maximum yas ve max maas"
   ]
  },
  {
   "cell_type": "code",
   "execution_count": 42,
   "id": "4c0b61c5",
   "metadata": {},
   "outputs": [],
   "source": [
    "#INDEXING AND SLICING"
   ]
  },
  {
   "cell_type": "code",
   "execution_count": 43,
   "id": "4ce29c49",
   "metadata": {},
   "outputs": [
    {
     "name": "stdout",
     "output_type": "stream",
     "text": [
      "0     beste\n",
      "1      arda\n",
      "2     burak\n",
      "3     zehra\n",
      "4    gorkem\n",
      "5      arba\n",
      "Name: NAME, dtype: object\n"
     ]
    }
   ],
   "source": [
    "print(dataFrame1[\"NAME\"]) #dataframedeki NAME'i aldık "
   ]
  },
  {
   "cell_type": "code",
   "execution_count": 44,
   "id": "610c40e3",
   "metadata": {},
   "outputs": [
    {
     "name": "stdout",
     "output_type": "stream",
     "text": [
      "0    25\n",
      "1    31\n",
      "2    20\n",
      "3    28\n",
      "4    21\n",
      "5     1\n",
      "Name: AGE, dtype: int64\n"
     ]
    }
   ],
   "source": [
    "print(dataFrame1.AGE) #dataframe'deki AGE'ı böyle de alabiliyoruz."
   ]
  },
  {
   "cell_type": "code",
   "execution_count": 45,
   "id": "08104991",
   "metadata": {},
   "outputs": [],
   "source": [
    "dataFrame1[\"yeni_feature\"]=[-1,-2,-3,-4,-5,-6]"
   ]
  },
  {
   "cell_type": "code",
   "execution_count": 46,
   "id": "7b9ba009",
   "metadata": {},
   "outputs": [
    {
     "name": "stdout",
     "output_type": "stream",
     "text": [
      "0    25\n",
      "1    31\n",
      "2    20\n",
      "3    28\n",
      "4    21\n",
      "5     1\n",
      "Name: AGE, dtype: int64\n"
     ]
    }
   ],
   "source": [
    "print(dataFrame1.loc[:,\"AGE\"]) #tüm satır, AGE"
   ]
  },
  {
   "cell_type": "code",
   "execution_count": 47,
   "id": "230cc5bd",
   "metadata": {},
   "outputs": [
    {
     "name": "stdout",
     "output_type": "stream",
     "text": [
      "0    25\n",
      "1    31\n",
      "2    20\n",
      "3    28\n",
      "Name: AGE, dtype: int64\n"
     ]
    }
   ],
   "source": [
    "print(dataFrame1.loc[:3,\"AGE\"]) #0. indexten 3. indexe kadar al. #NUMPY'DE 3 DAHIL OLMUYORDU FAKAT BURDA DAHIL"
   ]
  },
  {
   "cell_type": "code",
   "execution_count": 50,
   "id": "6e9e0e72",
   "metadata": {},
   "outputs": [
    {
     "name": "stdout",
     "output_type": "stream",
     "text": [
      "    NAME  AGE  MAAS\n",
      "0  beste   25   900\n",
      "1   arda   31   850\n",
      "2  burak   20   200\n"
     ]
    }
   ],
   "source": [
    "print(dataFrame1.loc[:2,\"NAME\":\"MAAS\"]) #0. indexten 2 dahil, name'den maasa kadar yazdır."
   ]
  },
  {
   "cell_type": "code",
   "execution_count": 51,
   "id": "a0a735ec",
   "metadata": {},
   "outputs": [
    {
     "name": "stdout",
     "output_type": "stream",
     "text": [
      "    NAME  MAAS\n",
      "0  beste   900\n",
      "1   arda   850\n",
      "2  burak   200\n",
      "3  zehra   450\n"
     ]
    }
   ],
   "source": [
    "print(dataFrame1.loc[:3,[\"NAME\",\"MAAS\"]]) #0. indexten 3 dahil al name ve maas'ı."
   ]
  },
  {
   "cell_type": "code",
   "execution_count": 53,
   "id": "c4117dd2",
   "metadata": {},
   "outputs": [
    {
     "name": "stdout",
     "output_type": "stream",
     "text": [
      "     NAME  AGE  MAAS  yeni_feature\n",
      "5    arba    1     0            -6\n",
      "4  gorkem   21   150            -5\n",
      "3   zehra   28   450            -4\n",
      "2   burak   20   200            -3\n",
      "1    arda   31   850            -2\n",
      "0   beste   25   900            -1\n"
     ]
    }
   ],
   "source": [
    "print(dataFrame1.loc[::-1,:])#tersten yazdırma, tüm sutun"
   ]
  },
  {
   "cell_type": "code",
   "execution_count": 54,
   "id": "8c45018e",
   "metadata": {},
   "outputs": [
    {
     "name": "stdout",
     "output_type": "stream",
     "text": [
      "   yeni_feature  MAAS  AGE    NAME\n",
      "0            -1   900   25   beste\n",
      "1            -2   850   31    arda\n",
      "2            -3   200   20   burak\n",
      "3            -4   450   28   zehra\n",
      "4            -5   150   21  gorkem\n",
      "5            -6     0    1    arba\n"
     ]
    }
   ],
   "source": [
    "print(dataFrame1.loc[:,::-1])"
   ]
  },
  {
   "cell_type": "code",
   "execution_count": 55,
   "id": "638a8726",
   "metadata": {},
   "outputs": [
    {
     "data": {
      "text/html": [
       "<div>\n",
       "<style scoped>\n",
       "    .dataframe tbody tr th:only-of-type {\n",
       "        vertical-align: middle;\n",
       "    }\n",
       "\n",
       "    .dataframe tbody tr th {\n",
       "        vertical-align: top;\n",
       "    }\n",
       "\n",
       "    .dataframe thead th {\n",
       "        text-align: right;\n",
       "    }\n",
       "</style>\n",
       "<table border=\"1\" class=\"dataframe\">\n",
       "  <thead>\n",
       "    <tr style=\"text-align: right;\">\n",
       "      <th></th>\n",
       "      <th>NAME</th>\n",
       "      <th>AGE</th>\n",
       "      <th>MAAS</th>\n",
       "      <th>yeni_feature</th>\n",
       "    </tr>\n",
       "  </thead>\n",
       "  <tbody>\n",
       "    <tr>\n",
       "      <th>0</th>\n",
       "      <td>beste</td>\n",
       "      <td>25</td>\n",
       "      <td>900</td>\n",
       "      <td>-1</td>\n",
       "    </tr>\n",
       "    <tr>\n",
       "      <th>1</th>\n",
       "      <td>arda</td>\n",
       "      <td>31</td>\n",
       "      <td>850</td>\n",
       "      <td>-2</td>\n",
       "    </tr>\n",
       "    <tr>\n",
       "      <th>2</th>\n",
       "      <td>burak</td>\n",
       "      <td>20</td>\n",
       "      <td>200</td>\n",
       "      <td>-3</td>\n",
       "    </tr>\n",
       "    <tr>\n",
       "      <th>3</th>\n",
       "      <td>zehra</td>\n",
       "      <td>28</td>\n",
       "      <td>450</td>\n",
       "      <td>-4</td>\n",
       "    </tr>\n",
       "    <tr>\n",
       "      <th>4</th>\n",
       "      <td>gorkem</td>\n",
       "      <td>21</td>\n",
       "      <td>150</td>\n",
       "      <td>-5</td>\n",
       "    </tr>\n",
       "    <tr>\n",
       "      <th>5</th>\n",
       "      <td>arba</td>\n",
       "      <td>1</td>\n",
       "      <td>0</td>\n",
       "      <td>-6</td>\n",
       "    </tr>\n",
       "  </tbody>\n",
       "</table>\n",
       "</div>"
      ],
      "text/plain": [
       "     NAME  AGE  MAAS  yeni_feature\n",
       "0   beste   25   900            -1\n",
       "1    arda   31   850            -2\n",
       "2   burak   20   200            -3\n",
       "3   zehra   28   450            -4\n",
       "4  gorkem   21   150            -5\n",
       "5    arba    1     0            -6"
      ]
     },
     "execution_count": 55,
     "metadata": {},
     "output_type": "execute_result"
    }
   ],
   "source": [
    "dataFrame1"
   ]
  },
  {
   "cell_type": "code",
   "execution_count": 56,
   "id": "2d7b2fc5",
   "metadata": {},
   "outputs": [
    {
     "name": "stdout",
     "output_type": "stream",
     "text": [
      "     NAME  AGE\n",
      "0   beste   25\n",
      "1    arda   31\n",
      "2   burak   20\n",
      "3   zehra   28\n",
      "4  gorkem   21\n",
      "5    arba    1\n"
     ]
    }
   ],
   "source": [
    "print(dataFrame1.loc[:,:\"AGE\"])#tum satir, 0. indexten \"NAME\" dahil "
   ]
  },
  {
   "cell_type": "code",
   "execution_count": 57,
   "id": "0e257001",
   "metadata": {},
   "outputs": [],
   "source": [
    "#loc string/object iloc ise int anlamında"
   ]
  },
  {
   "cell_type": "code",
   "execution_count": 58,
   "id": "5e1bad72",
   "metadata": {},
   "outputs": [
    {
     "name": "stdout",
     "output_type": "stream",
     "text": [
      "0    900\n",
      "1    850\n",
      "2    200\n",
      "3    450\n",
      "4    150\n",
      "5      0\n",
      "Name: MAAS, dtype: int64\n"
     ]
    }
   ],
   "source": [
    "print(dataFrame1.iloc[:,2]) #tüm satır, 2.index"
   ]
  },
  {
   "cell_type": "code",
   "execution_count": 59,
   "id": "9501f3d3",
   "metadata": {},
   "outputs": [],
   "source": [
    "#FILTERING"
   ]
  },
  {
   "cell_type": "code",
   "execution_count": 60,
   "id": "c20275f6",
   "metadata": {},
   "outputs": [],
   "source": [
    "filtre1=dataFrame1.MAAS> 200"
   ]
  },
  {
   "cell_type": "code",
   "execution_count": 62,
   "id": "e85edc8b",
   "metadata": {},
   "outputs": [
    {
     "data": {
      "text/plain": [
       "0     True\n",
       "1     True\n",
       "2    False\n",
       "3     True\n",
       "4    False\n",
       "5    False\n",
       "Name: MAAS, dtype: bool"
      ]
     },
     "execution_count": 62,
     "metadata": {},
     "output_type": "execute_result"
    }
   ],
   "source": [
    "filtre1"
   ]
  },
  {
   "cell_type": "code",
   "execution_count": 63,
   "id": "f987be8f",
   "metadata": {},
   "outputs": [
    {
     "data": {
      "text/plain": [
       "pandas.core.series.Series"
      ]
     },
     "execution_count": 63,
     "metadata": {},
     "output_type": "execute_result"
    }
   ],
   "source": [
    "type(filtre1)"
   ]
  },
  {
   "cell_type": "code",
   "execution_count": 64,
   "id": "5d499cb6",
   "metadata": {},
   "outputs": [],
   "source": [
    "filtrelenmis_data=dataFrame1[filtre1]"
   ]
  },
  {
   "cell_type": "code",
   "execution_count": 65,
   "id": "3ac150be",
   "metadata": {},
   "outputs": [
    {
     "data": {
      "text/html": [
       "<div>\n",
       "<style scoped>\n",
       "    .dataframe tbody tr th:only-of-type {\n",
       "        vertical-align: middle;\n",
       "    }\n",
       "\n",
       "    .dataframe tbody tr th {\n",
       "        vertical-align: top;\n",
       "    }\n",
       "\n",
       "    .dataframe thead th {\n",
       "        text-align: right;\n",
       "    }\n",
       "</style>\n",
       "<table border=\"1\" class=\"dataframe\">\n",
       "  <thead>\n",
       "    <tr style=\"text-align: right;\">\n",
       "      <th></th>\n",
       "      <th>NAME</th>\n",
       "      <th>AGE</th>\n",
       "      <th>MAAS</th>\n",
       "      <th>yeni_feature</th>\n",
       "    </tr>\n",
       "  </thead>\n",
       "  <tbody>\n",
       "    <tr>\n",
       "      <th>0</th>\n",
       "      <td>beste</td>\n",
       "      <td>25</td>\n",
       "      <td>900</td>\n",
       "      <td>-1</td>\n",
       "    </tr>\n",
       "    <tr>\n",
       "      <th>1</th>\n",
       "      <td>arda</td>\n",
       "      <td>31</td>\n",
       "      <td>850</td>\n",
       "      <td>-2</td>\n",
       "    </tr>\n",
       "    <tr>\n",
       "      <th>3</th>\n",
       "      <td>zehra</td>\n",
       "      <td>28</td>\n",
       "      <td>450</td>\n",
       "      <td>-4</td>\n",
       "    </tr>\n",
       "  </tbody>\n",
       "</table>\n",
       "</div>"
      ],
      "text/plain": [
       "    NAME  AGE  MAAS  yeni_feature\n",
       "0  beste   25   900            -1\n",
       "1   arda   31   850            -2\n",
       "3  zehra   28   450            -4"
      ]
     },
     "execution_count": 65,
     "metadata": {},
     "output_type": "execute_result"
    }
   ],
   "source": [
    "filtrelenmis_data"
   ]
  },
  {
   "cell_type": "code",
   "execution_count": 68,
   "id": "23829f51",
   "metadata": {},
   "outputs": [],
   "source": [
    "filtre2=dataFrame1.AGE <26"
   ]
  },
  {
   "cell_type": "code",
   "execution_count": 69,
   "id": "1f33a9ed",
   "metadata": {},
   "outputs": [
    {
     "data": {
      "text/html": [
       "<div>\n",
       "<style scoped>\n",
       "    .dataframe tbody tr th:only-of-type {\n",
       "        vertical-align: middle;\n",
       "    }\n",
       "\n",
       "    .dataframe tbody tr th {\n",
       "        vertical-align: top;\n",
       "    }\n",
       "\n",
       "    .dataframe thead th {\n",
       "        text-align: right;\n",
       "    }\n",
       "</style>\n",
       "<table border=\"1\" class=\"dataframe\">\n",
       "  <thead>\n",
       "    <tr style=\"text-align: right;\">\n",
       "      <th></th>\n",
       "      <th>NAME</th>\n",
       "      <th>AGE</th>\n",
       "      <th>MAAS</th>\n",
       "      <th>yeni_feature</th>\n",
       "    </tr>\n",
       "  </thead>\n",
       "  <tbody>\n",
       "    <tr>\n",
       "      <th>0</th>\n",
       "      <td>beste</td>\n",
       "      <td>25</td>\n",
       "      <td>900</td>\n",
       "      <td>-1</td>\n",
       "    </tr>\n",
       "  </tbody>\n",
       "</table>\n",
       "</div>"
      ],
      "text/plain": [
       "    NAME  AGE  MAAS  yeni_feature\n",
       "0  beste   25   900            -1"
      ]
     },
     "execution_count": 69,
     "metadata": {},
     "output_type": "execute_result"
    }
   ],
   "source": [
    "dataFrame1[filtre1&filtre2]"
   ]
  },
  {
   "cell_type": "code",
   "execution_count": 71,
   "id": "bcb98b7b",
   "metadata": {},
   "outputs": [
    {
     "name": "stdout",
     "output_type": "stream",
     "text": [
      "   NAME  AGE  MAAS  yeni_feature\n",
      "1  arda   31   850            -2\n"
     ]
    }
   ],
   "source": [
    "print(dataFrame1[dataFrame1.AGE>30])"
   ]
  },
  {
   "cell_type": "code",
   "execution_count": 72,
   "id": "404e2d8c",
   "metadata": {},
   "outputs": [],
   "source": [
    "#List Comprehension"
   ]
  },
  {
   "cell_type": "code",
   "execution_count": 74,
   "id": "9ad441d3",
   "metadata": {},
   "outputs": [],
   "source": [
    "ortalama_maas=dataFrame1.MAAS.mean() #pandas feature'un ortalamasını bulma"
   ]
  },
  {
   "cell_type": "code",
   "execution_count": 75,
   "id": "55e68e31",
   "metadata": {},
   "outputs": [
    {
     "name": "stdout",
     "output_type": "stream",
     "text": [
      "425.0\n"
     ]
    }
   ],
   "source": [
    "print(ortalama_maas)"
   ]
  },
  {
   "cell_type": "code",
   "execution_count": 77,
   "id": "130a4735",
   "metadata": {},
   "outputs": [
    {
     "name": "stdout",
     "output_type": "stream",
     "text": [
      "425.0\n"
     ]
    }
   ],
   "source": [
    "import numpy as np \n",
    "ortalama_maas_np=np.mean(dataFrame1.MAAS)\n",
    "print(ortalama_maas_np)"
   ]
  },
  {
   "cell_type": "code",
   "execution_count": 80,
   "id": "24203e52",
   "metadata": {},
   "outputs": [],
   "source": [
    "dataFrame1[\"maas_seviyesi\"]=[\"dusuk\" if ortalama_maas>each else \"yuksek\" for each in dataFrame1.MAAS]"
   ]
  },
  {
   "cell_type": "code",
   "execution_count": 81,
   "id": "81353f24",
   "metadata": {},
   "outputs": [
    {
     "data": {
      "text/html": [
       "<div>\n",
       "<style scoped>\n",
       "    .dataframe tbody tr th:only-of-type {\n",
       "        vertical-align: middle;\n",
       "    }\n",
       "\n",
       "    .dataframe tbody tr th {\n",
       "        vertical-align: top;\n",
       "    }\n",
       "\n",
       "    .dataframe thead th {\n",
       "        text-align: right;\n",
       "    }\n",
       "</style>\n",
       "<table border=\"1\" class=\"dataframe\">\n",
       "  <thead>\n",
       "    <tr style=\"text-align: right;\">\n",
       "      <th></th>\n",
       "      <th>NAME</th>\n",
       "      <th>AGE</th>\n",
       "      <th>MAAS</th>\n",
       "      <th>yeni_feature</th>\n",
       "      <th>maas_seviyesi</th>\n",
       "    </tr>\n",
       "  </thead>\n",
       "  <tbody>\n",
       "    <tr>\n",
       "      <th>0</th>\n",
       "      <td>beste</td>\n",
       "      <td>25</td>\n",
       "      <td>900</td>\n",
       "      <td>-1</td>\n",
       "      <td>yuksek</td>\n",
       "    </tr>\n",
       "    <tr>\n",
       "      <th>1</th>\n",
       "      <td>arda</td>\n",
       "      <td>31</td>\n",
       "      <td>850</td>\n",
       "      <td>-2</td>\n",
       "      <td>yuksek</td>\n",
       "    </tr>\n",
       "    <tr>\n",
       "      <th>2</th>\n",
       "      <td>burak</td>\n",
       "      <td>20</td>\n",
       "      <td>200</td>\n",
       "      <td>-3</td>\n",
       "      <td>dusuk</td>\n",
       "    </tr>\n",
       "    <tr>\n",
       "      <th>3</th>\n",
       "      <td>zehra</td>\n",
       "      <td>28</td>\n",
       "      <td>450</td>\n",
       "      <td>-4</td>\n",
       "      <td>yuksek</td>\n",
       "    </tr>\n",
       "    <tr>\n",
       "      <th>4</th>\n",
       "      <td>gorkem</td>\n",
       "      <td>21</td>\n",
       "      <td>150</td>\n",
       "      <td>-5</td>\n",
       "      <td>dusuk</td>\n",
       "    </tr>\n",
       "  </tbody>\n",
       "</table>\n",
       "</div>"
      ],
      "text/plain": [
       "     NAME  AGE  MAAS  yeni_feature maas_seviyesi\n",
       "0   beste   25   900            -1        yuksek\n",
       "1    arda   31   850            -2        yuksek\n",
       "2   burak   20   200            -3         dusuk\n",
       "3   zehra   28   450            -4        yuksek\n",
       "4  gorkem   21   150            -5         dusuk"
      ]
     },
     "execution_count": 81,
     "metadata": {},
     "output_type": "execute_result"
    }
   ],
   "source": [
    "dataFrame1.head()"
   ]
  },
  {
   "cell_type": "code",
   "execution_count": 84,
   "id": "623f11f6",
   "metadata": {},
   "outputs": [
    {
     "name": "stdout",
     "output_type": "stream",
     "text": [
      "yuksek\n",
      "yuksek\n",
      "dusuk\n",
      "yuksek\n",
      "dusuk\n",
      "dusuk\n"
     ]
    }
   ],
   "source": [
    "for each in dataFrame1.MAAS:\n",
    "    if ortalama_maas>each:\n",
    "        print(\"dusuk\")\n",
    "    else:\n",
    "        print(\"yuksek\")"
   ]
  },
  {
   "cell_type": "code",
   "execution_count": 91,
   "id": "7d291b58",
   "metadata": {},
   "outputs": [
    {
     "data": {
      "text/plain": [
       "'arda'"
      ]
     },
     "execution_count": 91,
     "metadata": {},
     "output_type": "execute_result"
    }
   ],
   "source": [
    "a=\"ARDA\"\n",
    "a.lower()#buyuk harfleri kucuk harf yapar\n",
    "a=\"ArDa\"\n",
    "a.lower()"
   ]
  },
  {
   "cell_type": "code",
   "execution_count": 87,
   "id": "e8cd7386",
   "metadata": {},
   "outputs": [],
   "source": [
    "dataFrame1.columns=[each.lower() for each in dataFrame1.columns] #dataframe icindeki featureları kucuk harf yapıldı."
   ]
  },
  {
   "cell_type": "code",
   "execution_count": 90,
   "id": "6838853d",
   "metadata": {},
   "outputs": [
    {
     "data": {
      "text/plain": [
       "Index(['name', 'age', 'maas', 'yeni_feature', 'maas_seviyesi'], dtype='object')"
      ]
     },
     "execution_count": 90,
     "metadata": {},
     "output_type": "execute_result"
    }
   ],
   "source": [
    "dataFrame1.columns"
   ]
  },
  {
   "cell_type": "code",
   "execution_count": 92,
   "id": "84ef07fe",
   "metadata": {},
   "outputs": [
    {
     "data": {
      "text/plain": [
       "['Burak', 'Orhan']"
      ]
     },
     "execution_count": 92,
     "metadata": {},
     "output_type": "execute_result"
    }
   ],
   "source": [
    "b=\"Burak Orhan\" #eger bosluk varsa bir liste icine iki ayrı eleman olarak koyuyor\n",
    "b.split()"
   ]
  },
  {
   "cell_type": "code",
   "execution_count": 95,
   "id": "cfdddfbb",
   "metadata": {},
   "outputs": [],
   "source": [
    "dataFrame1.columns=[each.split()[0]+\"_\"+each.split()[1] if len(each.split()) >1  else each  for each in dataFrame1.columns]"
   ]
  },
  {
   "cell_type": "code",
   "execution_count": 96,
   "id": "441653e3",
   "metadata": {},
   "outputs": [
    {
     "data": {
      "text/plain": [
       "Index(['name', 'age', 'maas', 'yeni_feature', 'maas_seviyesi'], dtype='object')"
      ]
     },
     "execution_count": 96,
     "metadata": {},
     "output_type": "execute_result"
    }
   ],
   "source": [
    "dataFrame1.columns"
   ]
  },
  {
   "cell_type": "code",
   "execution_count": 97,
   "id": "41142722",
   "metadata": {},
   "outputs": [],
   "source": [
    "#DROP AND CONCATENATING"
   ]
  },
  {
   "cell_type": "code",
   "execution_count": 98,
   "id": "1b24187e",
   "metadata": {},
   "outputs": [],
   "source": [
    "dataFrame1.drop([\"yeni_feature\"],axis=1,inplace=True) \n",
    "#dropta eger axis=0 dersek satır drop eder axis=1 dersek sutun drop edilir\n",
    "#inplace kullanma amacımız:\n",
    "#dataFrame1=dataFrame1.drop([\"yeni_feature\"],axis=1,inplace=True) #eşitleme işlemini yapmamak"
   ]
  },
  {
   "cell_type": "code",
   "execution_count": 99,
   "id": "8f68795a",
   "metadata": {},
   "outputs": [
    {
     "data": {
      "text/html": [
       "<div>\n",
       "<style scoped>\n",
       "    .dataframe tbody tr th:only-of-type {\n",
       "        vertical-align: middle;\n",
       "    }\n",
       "\n",
       "    .dataframe tbody tr th {\n",
       "        vertical-align: top;\n",
       "    }\n",
       "\n",
       "    .dataframe thead th {\n",
       "        text-align: right;\n",
       "    }\n",
       "</style>\n",
       "<table border=\"1\" class=\"dataframe\">\n",
       "  <thead>\n",
       "    <tr style=\"text-align: right;\">\n",
       "      <th></th>\n",
       "      <th>name</th>\n",
       "      <th>age</th>\n",
       "      <th>maas</th>\n",
       "      <th>maas_seviyesi</th>\n",
       "    </tr>\n",
       "  </thead>\n",
       "  <tbody>\n",
       "    <tr>\n",
       "      <th>0</th>\n",
       "      <td>beste</td>\n",
       "      <td>25</td>\n",
       "      <td>900</td>\n",
       "      <td>yuksek</td>\n",
       "    </tr>\n",
       "    <tr>\n",
       "      <th>1</th>\n",
       "      <td>arda</td>\n",
       "      <td>31</td>\n",
       "      <td>850</td>\n",
       "      <td>yuksek</td>\n",
       "    </tr>\n",
       "    <tr>\n",
       "      <th>2</th>\n",
       "      <td>burak</td>\n",
       "      <td>20</td>\n",
       "      <td>200</td>\n",
       "      <td>dusuk</td>\n",
       "    </tr>\n",
       "    <tr>\n",
       "      <th>3</th>\n",
       "      <td>zehra</td>\n",
       "      <td>28</td>\n",
       "      <td>450</td>\n",
       "      <td>yuksek</td>\n",
       "    </tr>\n",
       "    <tr>\n",
       "      <th>4</th>\n",
       "      <td>gorkem</td>\n",
       "      <td>21</td>\n",
       "      <td>150</td>\n",
       "      <td>dusuk</td>\n",
       "    </tr>\n",
       "  </tbody>\n",
       "</table>\n",
       "</div>"
      ],
      "text/plain": [
       "     name  age  maas maas_seviyesi\n",
       "0   beste   25   900        yuksek\n",
       "1    arda   31   850        yuksek\n",
       "2   burak   20   200         dusuk\n",
       "3   zehra   28   450        yuksek\n",
       "4  gorkem   21   150         dusuk"
      ]
     },
     "execution_count": 99,
     "metadata": {},
     "output_type": "execute_result"
    }
   ],
   "source": [
    "dataFrame1.head()"
   ]
  },
  {
   "cell_type": "code",
   "execution_count": 100,
   "id": "47b3d404",
   "metadata": {},
   "outputs": [],
   "source": [
    "data1=dataFrame1.head()\n",
    "data2=dataFrame1.tail()\n",
    "#vertical\n",
    "data_concat=pd.concat([data1,data2],axis=0) #concat birleştirmek icin kullanılır ilk bes ve son bes veriyi birlestirdik\n",
    "#axis=0 yukarıdan asagıya"
   ]
  },
  {
   "cell_type": "code",
   "execution_count": 101,
   "id": "df2a06c7",
   "metadata": {},
   "outputs": [
    {
     "data": {
      "text/html": [
       "<div>\n",
       "<style scoped>\n",
       "    .dataframe tbody tr th:only-of-type {\n",
       "        vertical-align: middle;\n",
       "    }\n",
       "\n",
       "    .dataframe tbody tr th {\n",
       "        vertical-align: top;\n",
       "    }\n",
       "\n",
       "    .dataframe thead th {\n",
       "        text-align: right;\n",
       "    }\n",
       "</style>\n",
       "<table border=\"1\" class=\"dataframe\">\n",
       "  <thead>\n",
       "    <tr style=\"text-align: right;\">\n",
       "      <th></th>\n",
       "      <th>name</th>\n",
       "      <th>age</th>\n",
       "      <th>maas</th>\n",
       "      <th>maas_seviyesi</th>\n",
       "    </tr>\n",
       "  </thead>\n",
       "  <tbody>\n",
       "    <tr>\n",
       "      <th>0</th>\n",
       "      <td>beste</td>\n",
       "      <td>25</td>\n",
       "      <td>900</td>\n",
       "      <td>yuksek</td>\n",
       "    </tr>\n",
       "    <tr>\n",
       "      <th>1</th>\n",
       "      <td>arda</td>\n",
       "      <td>31</td>\n",
       "      <td>850</td>\n",
       "      <td>yuksek</td>\n",
       "    </tr>\n",
       "    <tr>\n",
       "      <th>2</th>\n",
       "      <td>burak</td>\n",
       "      <td>20</td>\n",
       "      <td>200</td>\n",
       "      <td>dusuk</td>\n",
       "    </tr>\n",
       "    <tr>\n",
       "      <th>3</th>\n",
       "      <td>zehra</td>\n",
       "      <td>28</td>\n",
       "      <td>450</td>\n",
       "      <td>yuksek</td>\n",
       "    </tr>\n",
       "    <tr>\n",
       "      <th>4</th>\n",
       "      <td>gorkem</td>\n",
       "      <td>21</td>\n",
       "      <td>150</td>\n",
       "      <td>dusuk</td>\n",
       "    </tr>\n",
       "  </tbody>\n",
       "</table>\n",
       "</div>"
      ],
      "text/plain": [
       "     name  age  maas maas_seviyesi\n",
       "0   beste   25   900        yuksek\n",
       "1    arda   31   850        yuksek\n",
       "2   burak   20   200         dusuk\n",
       "3   zehra   28   450        yuksek\n",
       "4  gorkem   21   150         dusuk"
      ]
     },
     "execution_count": 101,
     "metadata": {},
     "output_type": "execute_result"
    }
   ],
   "source": [
    "data1"
   ]
  },
  {
   "cell_type": "code",
   "execution_count": 106,
   "id": "d4c28b95",
   "metadata": {},
   "outputs": [],
   "source": [
    "#horizontal"
   ]
  },
  {
   "cell_type": "code",
   "execution_count": 108,
   "id": "d0decb15",
   "metadata": {},
   "outputs": [
    {
     "data": {
      "text/html": [
       "<div>\n",
       "<style scoped>\n",
       "    .dataframe tbody tr th:only-of-type {\n",
       "        vertical-align: middle;\n",
       "    }\n",
       "\n",
       "    .dataframe tbody tr th {\n",
       "        vertical-align: top;\n",
       "    }\n",
       "\n",
       "    .dataframe thead th {\n",
       "        text-align: right;\n",
       "    }\n",
       "</style>\n",
       "<table border=\"1\" class=\"dataframe\">\n",
       "  <thead>\n",
       "    <tr style=\"text-align: right;\">\n",
       "      <th></th>\n",
       "      <th>maas</th>\n",
       "      <th>age</th>\n",
       "    </tr>\n",
       "  </thead>\n",
       "  <tbody>\n",
       "    <tr>\n",
       "      <th>0</th>\n",
       "      <td>900</td>\n",
       "      <td>25</td>\n",
       "    </tr>\n",
       "    <tr>\n",
       "      <th>1</th>\n",
       "      <td>850</td>\n",
       "      <td>31</td>\n",
       "    </tr>\n",
       "    <tr>\n",
       "      <th>2</th>\n",
       "      <td>200</td>\n",
       "      <td>20</td>\n",
       "    </tr>\n",
       "    <tr>\n",
       "      <th>3</th>\n",
       "      <td>450</td>\n",
       "      <td>28</td>\n",
       "    </tr>\n",
       "    <tr>\n",
       "      <th>4</th>\n",
       "      <td>150</td>\n",
       "      <td>21</td>\n",
       "    </tr>\n",
       "    <tr>\n",
       "      <th>5</th>\n",
       "      <td>0</td>\n",
       "      <td>1</td>\n",
       "    </tr>\n",
       "  </tbody>\n",
       "</table>\n",
       "</div>"
      ],
      "text/plain": [
       "   maas  age\n",
       "0   900   25\n",
       "1   850   31\n",
       "2   200   20\n",
       "3   450   28\n",
       "4   150   21\n",
       "5     0    1"
      ]
     },
     "execution_count": 108,
     "metadata": {},
     "output_type": "execute_result"
    }
   ],
   "source": [
    "maas=dataFrame1.maas\n",
    "age=dataFrame1.age\n",
    "data_h_concat=pd.concat([maas,age],axis=1)\n",
    "data_h_concat \n",
    "#yan yana birlestirme islemi gerceklestirdik axis=0 olsaydı dıger sutunu altına koyardı"
   ]
  },
  {
   "cell_type": "code",
   "execution_count": 112,
   "id": "2fa29683",
   "metadata": {},
   "outputs": [],
   "source": [
    "dataFrame1[\"list_comp\"]=[each*2 for each in dataFrame1.age]"
   ]
  },
  {
   "cell_type": "code",
   "execution_count": 113,
   "id": "8841045a",
   "metadata": {},
   "outputs": [
    {
     "data": {
      "text/plain": [
       "0    50\n",
       "1    62\n",
       "2    40\n",
       "3    56\n",
       "4    42\n",
       "5     2\n",
       "Name: list_comp, dtype: int64"
      ]
     },
     "execution_count": 113,
     "metadata": {},
     "output_type": "execute_result"
    }
   ],
   "source": [
    "dataFrame1[\"list_comp\"]"
   ]
  },
  {
   "cell_type": "code",
   "execution_count": 114,
   "id": "ef91ff38",
   "metadata": {},
   "outputs": [],
   "source": [
    "#apply\n",
    "def multiply(age):\n",
    "    return age*2\n",
    "dataFrame1[\"apply_methodu\"]=dataFrame1.age.apply(multiply)\n",
    "#dataframe.age'deki degerlerin hepsine yazdıgımız fonksiyonu uyguladı."
   ]
  },
  {
   "cell_type": "code",
   "execution_count": 115,
   "id": "a53d2b42",
   "metadata": {},
   "outputs": [
    {
     "data": {
      "text/plain": [
       "0    50\n",
       "1    62\n",
       "2    40\n",
       "3    56\n",
       "4    42\n",
       "5     2\n",
       "Name: apply_methodu, dtype: int64"
      ]
     },
     "execution_count": 115,
     "metadata": {},
     "output_type": "execute_result"
    }
   ],
   "source": [
    "dataFrame1[\"apply_methodu\"]"
   ]
  },
  {
   "cell_type": "code",
   "execution_count": 116,
   "id": "e20f268a",
   "metadata": {},
   "outputs": [
    {
     "data": {
      "text/html": [
       "<div>\n",
       "<style scoped>\n",
       "    .dataframe tbody tr th:only-of-type {\n",
       "        vertical-align: middle;\n",
       "    }\n",
       "\n",
       "    .dataframe tbody tr th {\n",
       "        vertical-align: top;\n",
       "    }\n",
       "\n",
       "    .dataframe thead th {\n",
       "        text-align: right;\n",
       "    }\n",
       "</style>\n",
       "<table border=\"1\" class=\"dataframe\">\n",
       "  <thead>\n",
       "    <tr style=\"text-align: right;\">\n",
       "      <th></th>\n",
       "      <th>name</th>\n",
       "      <th>age</th>\n",
       "      <th>maas</th>\n",
       "      <th>maas_seviyesi</th>\n",
       "      <th>list_comp</th>\n",
       "      <th>apply_methodu</th>\n",
       "    </tr>\n",
       "  </thead>\n",
       "  <tbody>\n",
       "    <tr>\n",
       "      <th>0</th>\n",
       "      <td>beste</td>\n",
       "      <td>25</td>\n",
       "      <td>900</td>\n",
       "      <td>yuksek</td>\n",
       "      <td>50</td>\n",
       "      <td>50</td>\n",
       "    </tr>\n",
       "    <tr>\n",
       "      <th>1</th>\n",
       "      <td>arda</td>\n",
       "      <td>31</td>\n",
       "      <td>850</td>\n",
       "      <td>yuksek</td>\n",
       "      <td>62</td>\n",
       "      <td>62</td>\n",
       "    </tr>\n",
       "    <tr>\n",
       "      <th>2</th>\n",
       "      <td>burak</td>\n",
       "      <td>20</td>\n",
       "      <td>200</td>\n",
       "      <td>dusuk</td>\n",
       "      <td>40</td>\n",
       "      <td>40</td>\n",
       "    </tr>\n",
       "    <tr>\n",
       "      <th>3</th>\n",
       "      <td>zehra</td>\n",
       "      <td>28</td>\n",
       "      <td>450</td>\n",
       "      <td>yuksek</td>\n",
       "      <td>56</td>\n",
       "      <td>56</td>\n",
       "    </tr>\n",
       "    <tr>\n",
       "      <th>4</th>\n",
       "      <td>gorkem</td>\n",
       "      <td>21</td>\n",
       "      <td>150</td>\n",
       "      <td>dusuk</td>\n",
       "      <td>42</td>\n",
       "      <td>42</td>\n",
       "    </tr>\n",
       "  </tbody>\n",
       "</table>\n",
       "</div>"
      ],
      "text/plain": [
       "     name  age  maas maas_seviyesi  list_comp  apply_methodu\n",
       "0   beste   25   900        yuksek         50             50\n",
       "1    arda   31   850        yuksek         62             62\n",
       "2   burak   20   200         dusuk         40             40\n",
       "3   zehra   28   450        yuksek         56             56\n",
       "4  gorkem   21   150         dusuk         42             42"
      ]
     },
     "execution_count": 116,
     "metadata": {},
     "output_type": "execute_result"
    }
   ],
   "source": [
    "dataFrame1.head()"
   ]
  },
  {
   "cell_type": "code",
   "execution_count": null,
   "id": "38cfe298",
   "metadata": {},
   "outputs": [],
   "source": []
  }
 ],
 "metadata": {
  "kernelspec": {
   "display_name": "Python 3 (ipykernel)",
   "language": "python",
   "name": "python3"
  },
  "language_info": {
   "codemirror_mode": {
    "name": "ipython",
    "version": 3
   },
   "file_extension": ".py",
   "mimetype": "text/x-python",
   "name": "python",
   "nbconvert_exporter": "python",
   "pygments_lexer": "ipython3",
   "version": "3.9.7"
  }
 },
 "nbformat": 4,
 "nbformat_minor": 5
}
