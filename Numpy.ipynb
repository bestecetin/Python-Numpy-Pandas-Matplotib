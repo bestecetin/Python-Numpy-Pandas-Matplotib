{
 "cells": [
  {
   "cell_type": "code",
   "execution_count": 1,
   "id": "ffa0279f",
   "metadata": {},
   "outputs": [],
   "source": [
    "#NUMPY BASICS"
   ]
  },
  {
   "cell_type": "code",
   "execution_count": 2,
   "id": "b0086831",
   "metadata": {},
   "outputs": [],
   "source": [
    "import numpy as np"
   ]
  },
  {
   "cell_type": "code",
   "execution_count": 5,
   "id": "b1aaa601",
   "metadata": {},
   "outputs": [],
   "source": [
    "array=np.array([1,2,3,4,5,6,7,8,9,10,11,12,13,14,15]) #1x15 vektor"
   ]
  },
  {
   "cell_type": "code",
   "execution_count": 6,
   "id": "a30ba548",
   "metadata": {},
   "outputs": [
    {
     "data": {
      "text/plain": [
       "array([ 1,  2,  3,  4,  5,  6,  7,  8,  9, 10, 11, 12, 13, 14, 15])"
      ]
     },
     "execution_count": 6,
     "metadata": {},
     "output_type": "execute_result"
    }
   ],
   "source": [
    "array"
   ]
  },
  {
   "cell_type": "code",
   "execution_count": 7,
   "id": "e85395cc",
   "metadata": {},
   "outputs": [
    {
     "name": "stdout",
     "output_type": "stream",
     "text": [
      "(15,)\n"
     ]
    }
   ],
   "source": [
    "print(array.shape)"
   ]
  },
  {
   "cell_type": "code",
   "execution_count": 8,
   "id": "3796c379",
   "metadata": {},
   "outputs": [],
   "source": [
    "a=array.reshape(3,5)"
   ]
  },
  {
   "cell_type": "code",
   "execution_count": 9,
   "id": "725df9e3",
   "metadata": {},
   "outputs": [
    {
     "data": {
      "text/plain": [
       "array([[ 1,  2,  3,  4,  5],\n",
       "       [ 6,  7,  8,  9, 10],\n",
       "       [11, 12, 13, 14, 15]])"
      ]
     },
     "execution_count": 9,
     "metadata": {},
     "output_type": "execute_result"
    }
   ],
   "source": [
    "a"
   ]
  },
  {
   "cell_type": "code",
   "execution_count": 14,
   "id": "7e0fadee",
   "metadata": {},
   "outputs": [
    {
     "name": "stdout",
     "output_type": "stream",
     "text": [
      "shape (3, 5)\n",
      "dimension  2\n",
      "data type  int64\n",
      "size  15\n"
     ]
    }
   ],
   "source": [
    "print(\"shape\",a.shape)    #aXb\n",
    "print(\"dimension \",a.ndim) #2 boyutlu\n",
    "print(\"data type \",a.dtype.name) #arrayıb icindeki data type isimleri \n",
    "print(\"size \",a.size) \n",
    "print(\"type \",type(a))"
   ]
  },
  {
   "cell_type": "code",
   "execution_count": 16,
   "id": "d39f2e10",
   "metadata": {},
   "outputs": [
    {
     "name": "stdout",
     "output_type": "stream",
     "text": [
      "[[1 2 3 4]\n",
      " [5 6 7 8]\n",
      " [9 8 7 5]]\n"
     ]
    }
   ],
   "source": [
    "array1=np.array([[1,2,3,4],[5,6,7,8],[9,8,7,5]])\n",
    "print(array1)"
   ]
  },
  {
   "cell_type": "code",
   "execution_count": 17,
   "id": "0934f64b",
   "metadata": {},
   "outputs": [
    {
     "data": {
      "text/plain": [
       "array([[0., 0., 0., 0.],\n",
       "       [0., 0., 0., 0.],\n",
       "       [0., 0., 0., 0.]])"
      ]
     },
     "execution_count": 17,
     "metadata": {},
     "output_type": "execute_result"
    }
   ],
   "source": [
    "np.zeros((3,4)) #0'lardan oluşan 3x4lük matris verir "
   ]
  },
  {
   "cell_type": "code",
   "execution_count": 18,
   "id": "96e78086",
   "metadata": {},
   "outputs": [
    {
     "name": "stdout",
     "output_type": "stream",
     "text": [
      "[[5. 0. 0. 0.]\n",
      " [0. 0. 0. 0.]\n",
      " [0. 0. 0. 0.]]\n"
     ]
    }
   ],
   "source": [
    "#liste.append(5) yapmak belleği yorduğu için istediğimiz kadar alanı zeros kullanarak 0'larla doldurup\n",
    "#sonradan duzenleyebiliriz.\n",
    "\n",
    "zeros=np.zeros((3,4))\n",
    "zeros[0,0]=5\n",
    "print(zeros)"
   ]
  },
  {
   "cell_type": "code",
   "execution_count": 19,
   "id": "5a38e1dc",
   "metadata": {},
   "outputs": [
    {
     "data": {
      "text/plain": [
       "array([[1., 1., 1., 1.],\n",
       "       [1., 1., 1., 1.],\n",
       "       [1., 1., 1., 1.]])"
      ]
     },
     "execution_count": 19,
     "metadata": {},
     "output_type": "execute_result"
    }
   ],
   "source": [
    "np.ones((3,4)) #1'lerden oluşan matris verir."
   ]
  },
  {
   "cell_type": "code",
   "execution_count": 22,
   "id": "02346728",
   "metadata": {},
   "outputs": [
    {
     "data": {
      "text/plain": [
       "array([[2.00000000e+000, 2.68678721e+154, 1.48219694e-323],\n",
       "       [0.00000000e+000, 0.00000000e+000, 4.17201348e-309]])"
      ]
     },
     "execution_count": 22,
     "metadata": {},
     "output_type": "execute_result"
    }
   ],
   "source": [
    "np.empty((2,3)) #python bos yerine cok cok cok kucuk bir sayi atıyor"
   ]
  },
  {
   "cell_type": "code",
   "execution_count": 23,
   "id": "7a277a35",
   "metadata": {},
   "outputs": [
    {
     "data": {
      "text/plain": [
       "array([10, 15, 20, 25, 30, 35, 40, 45])"
      ]
     },
     "execution_count": 23,
     "metadata": {},
     "output_type": "execute_result"
    }
   ],
   "source": [
    "a=np.arange(10,50,5) #10'dan 50'ye kadar (50 dahil degil) 5'er arttırarak yazar.\n",
    "a"
   ]
  },
  {
   "cell_type": "code",
   "execution_count": 26,
   "id": "fa94ce91",
   "metadata": {},
   "outputs": [
    {
     "data": {
      "text/plain": [
       "array([ 1. ,  4.5,  8. , 11.5, 15. , 18.5, 22. , 25.5, 29. , 32.5])"
      ]
     },
     "execution_count": 26,
     "metadata": {},
     "output_type": "execute_result"
    }
   ],
   "source": [
    "a=np.arange(1,35,3.5) \n",
    "a"
   ]
  },
  {
   "cell_type": "code",
   "execution_count": 27,
   "id": "714dcbd6",
   "metadata": {},
   "outputs": [
    {
     "data": {
      "text/plain": [
       "array([10.        , 12.10526316, 14.21052632, 16.31578947, 18.42105263,\n",
       "       20.52631579, 22.63157895, 24.73684211, 26.84210526, 28.94736842,\n",
       "       31.05263158, 33.15789474, 35.26315789, 37.36842105, 39.47368421,\n",
       "       41.57894737, 43.68421053, 45.78947368, 47.89473684, 50.        ])"
      ]
     },
     "execution_count": 27,
     "metadata": {},
     "output_type": "execute_result"
    }
   ],
   "source": [
    "a=np.linspace(10,50,20) #10dan 50ye kadar 50 dahil 20 tane sayı verir\n",
    "a"
   ]
  },
  {
   "cell_type": "code",
   "execution_count": 28,
   "id": "2de11f30",
   "metadata": {},
   "outputs": [
    {
     "name": "stdout",
     "output_type": "stream",
     "text": [
      "[5 7 9]\n"
     ]
    }
   ],
   "source": [
    "#NUMPY BASIC OPERATIONS\n",
    "a=np.array([1,2,3])\n",
    "b=np.array([4,5,6])"
   ]
  },
  {
   "cell_type": "code",
   "execution_count": null,
   "id": "a49b12a8",
   "metadata": {},
   "outputs": [],
   "source": [
    "# iki tane çarpı (**) üzeri yani 3**4 3 üzeri 4 anlamına gelir."
   ]
  },
  {
   "cell_type": "code",
   "execution_count": 31,
   "id": "a3717677",
   "metadata": {},
   "outputs": [
    {
     "name": "stdout",
     "output_type": "stream",
     "text": [
      "[5 7 9]\n",
      "[-3 -3 -3]\n",
      "[1 4 9]\n"
     ]
    }
   ],
   "source": [
    "print(a+b)\n",
    "print(a-b)\n",
    "print(a**2)"
   ]
  },
  {
   "cell_type": "code",
   "execution_count": 32,
   "id": "5b4db163",
   "metadata": {},
   "outputs": [
    {
     "name": "stdout",
     "output_type": "stream",
     "text": [
      "[0.84147098 0.90929743 0.14112001]\n"
     ]
    }
   ],
   "source": [
    "print(np.sin(a)) #a'nın sinüsü"
   ]
  },
  {
   "cell_type": "code",
   "execution_count": 33,
   "id": "495c1560",
   "metadata": {},
   "outputs": [
    {
     "name": "stdout",
     "output_type": "stream",
     "text": [
      "[ True False False]\n"
     ]
    }
   ],
   "source": [
    "print(a<2)#a'nın icinde 2den kücük olanlar true digerleri false"
   ]
  },
  {
   "cell_type": "code",
   "execution_count": 38,
   "id": "e6a5a4b5",
   "metadata": {},
   "outputs": [],
   "source": [
    "a=np.array([[1,2,3],[4,5,6]])\n",
    "b=np.array([[1,2,3],[4,5,6]])"
   ]
  },
  {
   "cell_type": "code",
   "execution_count": 39,
   "id": "f1cc6918",
   "metadata": {},
   "outputs": [
    {
     "name": "stdout",
     "output_type": "stream",
     "text": [
      "[[ 1  4  9]\n",
      " [16 25 36]]\n"
     ]
    }
   ],
   "source": [
    "#element wise product\n",
    "print(a*b)"
   ]
  },
  {
   "cell_type": "code",
   "execution_count": 40,
   "id": "ea90a3e5",
   "metadata": {},
   "outputs": [
    {
     "ename": "ValueError",
     "evalue": "shapes (2,3) and (2,3) not aligned: 3 (dim 1) != 2 (dim 0)",
     "output_type": "error",
     "traceback": [
      "\u001b[0;31m---------------------------------------------------------------------------\u001b[0m",
      "\u001b[0;31mValueError\u001b[0m                                Traceback (most recent call last)",
      "\u001b[0;32m/var/folders/pc/gs0lq1w52r16_wgx9vm4wxhm0000gn/T/ipykernel_8805/1712169868.py\u001b[0m in \u001b[0;36m<module>\u001b[0;34m\u001b[0m\n\u001b[1;32m      1\u001b[0m \u001b[0;31m#matrix product\u001b[0m\u001b[0;34m\u001b[0m\u001b[0;34m\u001b[0m\u001b[0m\n\u001b[0;32m----> 2\u001b[0;31m \u001b[0ma\u001b[0m\u001b[0;34m.\u001b[0m\u001b[0mdot\u001b[0m\u001b[0;34m(\u001b[0m\u001b[0mb\u001b[0m\u001b[0;34m)\u001b[0m\u001b[0;34m\u001b[0m\u001b[0;34m\u001b[0m\u001b[0m\n\u001b[0m",
      "\u001b[0;31mValueError\u001b[0m: shapes (2,3) and (2,3) not aligned: 3 (dim 1) != 2 (dim 0)"
     ]
    }
   ],
   "source": [
    "#matrix product\n",
    "a.dot(b)"
   ]
  },
  {
   "cell_type": "code",
   "execution_count": 41,
   "id": "4d92f704",
   "metadata": {},
   "outputs": [
    {
     "data": {
      "text/plain": [
       "array([[14, 32],\n",
       "       [32, 77]])"
      ]
     },
     "execution_count": 41,
     "metadata": {},
     "output_type": "execute_result"
    }
   ],
   "source": [
    "#matrislerle carpma yaparken birincisinin sütunuyla ikincisinin satırı aynı olmak zorunda \n",
    "a.dot(b.T) #transposeunu alıp carpabiliriz "
   ]
  },
  {
   "cell_type": "code",
   "execution_count": 43,
   "id": "18a6c532",
   "metadata": {},
   "outputs": [
    {
     "name": "stdout",
     "output_type": "stream",
     "text": [
      "[[1.43191165 1.0148898  1.8764256  1.78433712 1.0791711 ]\n",
      " [1.13896281 2.1236175  2.65413112 1.44666622 1.12795657]\n",
      " [1.03151935 1.58845187 1.52830471 1.48521519 1.41374552]\n",
      " [1.20594891 1.43711395 2.06662512 2.53875502 1.47169862]\n",
      " [1.16347703 2.02111111 2.08605665 1.04403926 2.07478995]]\n"
     ]
    }
   ],
   "source": [
    "print(np.exp(a))"
   ]
  },
  {
   "cell_type": "code",
   "execution_count": 44,
   "id": "358ec4bb",
   "metadata": {},
   "outputs": [
    {
     "data": {
      "text/plain": [
       "array([[0.88415019, 0.38040099, 0.27149578, 0.58222729, 0.91491441],\n",
       "       [0.06962633, 0.54947775, 0.51115047, 0.7064878 , 0.84196863],\n",
       "       [0.38199217, 0.54512019, 0.89155232, 0.38972164, 0.12447186],\n",
       "       [0.5183799 , 0.1153295 , 0.44431567, 0.76687504, 0.71579553],\n",
       "       [0.06006412, 0.06504262, 0.61513119, 0.42779639, 0.69197809]])"
      ]
     },
     "execution_count": 44,
     "metadata": {},
     "output_type": "execute_result"
    }
   ],
   "source": [
    "a=np.random.random((5,5)) #5x5lik 0 ila 1 arasında random sayılar oluşturur.\n",
    "a"
   ]
  },
  {
   "cell_type": "code",
   "execution_count": 45,
   "id": "69914e57",
   "metadata": {},
   "outputs": [
    {
     "name": "stdout",
     "output_type": "stream",
     "text": [
      "12.465465880804773\n",
      "0.9149144106214363\n",
      "0.060064117717787524\n"
     ]
    }
   ],
   "source": [
    "print(a.sum()) #arraydeki elemanların toplamı\n",
    "print(a.max()) #arraydeki max eleman\n",
    "print(a.min()) #arrydeki min eleman"
   ]
  },
  {
   "cell_type": "code",
   "execution_count": 47,
   "id": "ce6f7709",
   "metadata": {},
   "outputs": [
    {
     "name": "stdout",
     "output_type": "stream",
     "text": [
      "[1.91421271 1.65537105 2.73364543 2.87310816 3.28912853]\n"
     ]
    }
   ],
   "source": [
    "print(a.sum(axis=0)) #tüm sütunları tek tek toplar"
   ]
  },
  {
   "cell_type": "code",
   "execution_count": 48,
   "id": "ab0477f9",
   "metadata": {},
   "outputs": [
    {
     "name": "stdout",
     "output_type": "stream",
     "text": [
      "[3.03318866 2.67871099 2.33285818 2.56069565 1.8600124 ]\n"
     ]
    }
   ],
   "source": [
    "print(a.sum(axis=1)) #satırları tek tek toplar"
   ]
  },
  {
   "cell_type": "code",
   "execution_count": 50,
   "id": "797a8e62",
   "metadata": {},
   "outputs": [
    {
     "name": "stdout",
     "output_type": "stream",
     "text": [
      "[[0.94029261 0.61676656 0.52105257 0.7630382  0.95651158]\n",
      " [0.26386802 0.74126767 0.71494788 0.84052829 0.91758849]\n",
      " [0.61805515 0.73832255 0.94422048 0.6242769  0.3528057 ]\n",
      " [0.71998604 0.33960198 0.66657008 0.87571402 0.846047  ]\n",
      " [0.24507982 0.25503456 0.78430299 0.65406146 0.8318522 ]]\n"
     ]
    }
   ],
   "source": [
    "print(np.sqrt(a)) #karekök"
   ]
  },
  {
   "cell_type": "code",
   "execution_count": 51,
   "id": "7e616f32",
   "metadata": {},
   "outputs": [
    {
     "name": "stdout",
     "output_type": "stream",
     "text": [
      "[[0.78172156 0.14470491 0.07370996 0.33898862 0.83706838]\n",
      " [0.00484783 0.3019258  0.2612748  0.49912502 0.70891118]\n",
      " [0.14591802 0.29715602 0.79486554 0.15188296 0.01549324]\n",
      " [0.26871772 0.01330089 0.19741642 0.58809732 0.51236325]\n",
      " [0.0036077  0.00423054 0.37838638 0.18300975 0.47883367]]\n"
     ]
    }
   ],
   "source": [
    "print(np.square(a)) #a**2 (kare)"
   ]
  },
  {
   "cell_type": "code",
   "execution_count": 52,
   "id": "073b4d65",
   "metadata": {},
   "outputs": [
    {
     "name": "stdout",
     "output_type": "stream",
     "text": [
      "[[1.76830038 0.76080197 0.54299156 1.16445458 1.82982882]\n",
      " [0.13925266 1.09895551 1.02230094 1.4129756  1.68393727]\n",
      " [0.76398433 1.09024037 1.78310465 0.77944328 0.24894372]\n",
      " [1.03675981 0.23065901 0.88863135 1.53375008 1.43159107]\n",
      " [0.12012824 0.13008525 1.23026237 0.85559278 1.38395617]]\n"
     ]
    }
   ],
   "source": [
    "print(np.add(a,a)) #a+a"
   ]
  },
  {
   "cell_type": "code",
   "execution_count": 54,
   "id": "c1d69d58",
   "metadata": {},
   "outputs": [
    {
     "data": {
      "text/plain": [
       "array([[1, 4],\n",
       "       [2, 5],\n",
       "       [3, 6]])"
      ]
     },
     "execution_count": 54,
     "metadata": {},
     "output_type": "execute_result"
    }
   ],
   "source": [
    "x=np.array([[1,2,3],[4,5,6]])\n",
    "x.T"
   ]
  },
  {
   "cell_type": "code",
   "execution_count": 55,
   "id": "2956012a",
   "metadata": {},
   "outputs": [],
   "source": [
    "#indexing and slicing\n",
    "array=np.array([1,2,3,4,5,6,7])"
   ]
  },
  {
   "cell_type": "code",
   "execution_count": 56,
   "id": "f5431151",
   "metadata": {},
   "outputs": [
    {
     "name": "stdout",
     "output_type": "stream",
     "text": [
      "4\n"
     ]
    }
   ],
   "source": [
    "print(array[3])"
   ]
  },
  {
   "cell_type": "code",
   "execution_count": 58,
   "id": "13300300",
   "metadata": {},
   "outputs": [
    {
     "name": "stdout",
     "output_type": "stream",
     "text": [
      "[1 2 3 4]\n"
     ]
    }
   ],
   "source": [
    "print(array[0:4])"
   ]
  },
  {
   "cell_type": "code",
   "execution_count": 59,
   "id": "7c64e19b",
   "metadata": {},
   "outputs": [
    {
     "name": "stdout",
     "output_type": "stream",
     "text": [
      "[7 6 5 4 3 2 1]\n"
     ]
    }
   ],
   "source": [
    "reverse_array=array[::-1] #ters cevirme islemi \n",
    "print(reverse_array)"
   ]
  },
  {
   "cell_type": "code",
   "execution_count": 62,
   "id": "fccba9b8",
   "metadata": {},
   "outputs": [
    {
     "name": "stdout",
     "output_type": "stream",
     "text": [
      "7\n"
     ]
    }
   ],
   "source": [
    "array1=np.array([[1,2,3,4,5],[6,7,8,9,10]])\n",
    "print(array1[1,1])"
   ]
  },
  {
   "cell_type": "code",
   "execution_count": 66,
   "id": "7d3be7c0",
   "metadata": {},
   "outputs": [
    {
     "name": "stdout",
     "output_type": "stream",
     "text": [
      "[[ 1  2  3  4  5]\n",
      " [ 6  7  8  9 10]]\n"
     ]
    }
   ],
   "source": [
    "print(array1)"
   ]
  },
  {
   "cell_type": "code",
   "execution_count": 67,
   "id": "80753cd0",
   "metadata": {},
   "outputs": [
    {
     "name": "stdout",
     "output_type": "stream",
     "text": [
      "[2 7]\n"
     ]
    }
   ],
   "source": [
    "print(array1[:,1]) #satırlardan hepsini sutunlardan 1.ci sutunu al."
   ]
  },
  {
   "cell_type": "code",
   "execution_count": 71,
   "id": "445811f4",
   "metadata": {},
   "outputs": [
    {
     "name": "stdout",
     "output_type": "stream",
     "text": [
      "[7 8 9]\n"
     ]
    }
   ],
   "source": [
    "print(array1[1,1:4])"
   ]
  },
  {
   "cell_type": "code",
   "execution_count": 73,
   "id": "0fd3ef32",
   "metadata": {},
   "outputs": [
    {
     "name": "stdout",
     "output_type": "stream",
     "text": [
      "[ 6  7  8  9 10]\n"
     ]
    }
   ],
   "source": [
    "print(array1[-1,:]) #sutunlardan son sutunu, satırlardan hepsini"
   ]
  },
  {
   "cell_type": "code",
   "execution_count": 75,
   "id": "b0bbd57b",
   "metadata": {},
   "outputs": [
    {
     "name": "stdout",
     "output_type": "stream",
     "text": [
      "[ 5 10]\n"
     ]
    }
   ],
   "source": [
    "print(array1[:,-1])"
   ]
  },
  {
   "cell_type": "code",
   "execution_count": null,
   "id": "f1741ddd",
   "metadata": {},
   "outputs": [],
   "source": [
    "#shape manipulation"
   ]
  },
  {
   "cell_type": "code",
   "execution_count": 3,
   "id": "a4d74ade",
   "metadata": {},
   "outputs": [],
   "source": [
    "myArray=np.array([[1,2,3],[4,5,6],[7,8,9]])"
   ]
  },
  {
   "cell_type": "code",
   "execution_count": 5,
   "id": "a51c2e18",
   "metadata": {},
   "outputs": [
    {
     "name": "stdout",
     "output_type": "stream",
     "text": [
      "[[1 2 3]\n",
      " [4 5 6]\n",
      " [7 8 9]]\n"
     ]
    }
   ],
   "source": [
    "print(myArray)"
   ]
  },
  {
   "cell_type": "code",
   "execution_count": 24,
   "id": "8c268775",
   "metadata": {},
   "outputs": [],
   "source": [
    "#flatten"
   ]
  },
  {
   "cell_type": "code",
   "execution_count": 25,
   "id": "2a5876c2",
   "metadata": {},
   "outputs": [],
   "source": [
    "a=myArray.ravel()"
   ]
  },
  {
   "cell_type": "code",
   "execution_count": 26,
   "id": "01fb8785",
   "metadata": {},
   "outputs": [
    {
     "name": "stdout",
     "output_type": "stream",
     "text": [
      "[1 2 3 4 5 6 7 8 9]\n"
     ]
    }
   ],
   "source": [
    "print(a) #3x3'lük matrisi 1x1 yapmış olduk."
   ]
  },
  {
   "cell_type": "code",
   "execution_count": 27,
   "id": "157a9f12",
   "metadata": {},
   "outputs": [],
   "source": [
    "array2=a.reshape(3,3) #1x1'lik matrisi 3x3'lük matris yaptık."
   ]
  },
  {
   "cell_type": "code",
   "execution_count": 28,
   "id": "63464805",
   "metadata": {},
   "outputs": [
    {
     "name": "stdout",
     "output_type": "stream",
     "text": [
      "[[1 2 3]\n",
      " [4 5 6]\n",
      " [7 8 9]]\n"
     ]
    }
   ],
   "source": [
    "print(array2)"
   ]
  },
  {
   "cell_type": "code",
   "execution_count": 29,
   "id": "8846c034",
   "metadata": {},
   "outputs": [],
   "source": [
    "arrayT=array2.T #transpose almak için kullanıyordu."
   ]
  },
  {
   "cell_type": "code",
   "execution_count": 30,
   "id": "993dfca7",
   "metadata": {},
   "outputs": [
    {
     "name": "stdout",
     "output_type": "stream",
     "text": [
      "[[1 4 7]\n",
      " [2 5 8]\n",
      " [3 6 9]]\n"
     ]
    }
   ],
   "source": [
    "print(arrayT) "
   ]
  },
  {
   "cell_type": "code",
   "execution_count": 33,
   "id": "63c5b523",
   "metadata": {},
   "outputs": [
    {
     "data": {
      "text/plain": [
       "array([[1, 2, 3],\n",
       "       [4, 4, 5]])"
      ]
     },
     "execution_count": 33,
     "metadata": {},
     "output_type": "execute_result"
    }
   ],
   "source": [
    "array5=np.array([[1,2],[3,4],[4,5]])\n",
    "array5.reshape(2,3)"
   ]
  },
  {
   "cell_type": "code",
   "execution_count": 34,
   "id": "995f09c7",
   "metadata": {},
   "outputs": [
    {
     "name": "stdout",
     "output_type": "stream",
     "text": [
      "[[1 2]\n",
      " [3 4]\n",
      " [4 5]]\n"
     ]
    }
   ],
   "source": [
    "print(array5) #reshape yaptık fakat aslında array5 degismedi "
   ]
  },
  {
   "cell_type": "code",
   "execution_count": 36,
   "id": "56900b48",
   "metadata": {},
   "outputs": [],
   "source": [
    "array5.resize((2,3))"
   ]
  },
  {
   "cell_type": "code",
   "execution_count": 37,
   "id": "1d28785e",
   "metadata": {},
   "outputs": [
    {
     "name": "stdout",
     "output_type": "stream",
     "text": [
      "[[1 2 3]\n",
      " [4 4 5]]\n"
     ]
    }
   ],
   "source": [
    "print(array5) #resize ile array5'te degisiklik oldu "
   ]
  },
  {
   "cell_type": "code",
   "execution_count": 38,
   "id": "789598b0",
   "metadata": {},
   "outputs": [],
   "source": [
    "#reshape'de degisiklik yapılmıs olarak kullanmamız ıcın bir degiskene almamız gerekiyor \n",
    "#array2=a.reshape(3,3) reshape arrayi direkt olarak degistirmiyor \n",
    "#resize ise bizim icin array5=array5.resize((2,3)) gibi islem yaparak kullandıgımız array üzerinde degisiklik yapıyor."
   ]
  },
  {
   "cell_type": "code",
   "execution_count": 39,
   "id": "24c76b97",
   "metadata": {},
   "outputs": [],
   "source": [
    "#STAKING ARRAYS (array birlestirme)"
   ]
  },
  {
   "cell_type": "code",
   "execution_count": 40,
   "id": "2644439d",
   "metadata": {},
   "outputs": [],
   "source": [
    "array1=np.array([[1,2],[3,4]])\n",
    "array2=np.array([[-1,-2],[-3,-4]])"
   ]
  },
  {
   "cell_type": "code",
   "execution_count": 42,
   "id": "b7b252b2",
   "metadata": {},
   "outputs": [
    {
     "name": "stdout",
     "output_type": "stream",
     "text": [
      "[[1 2]\n",
      " [3 4]]\n"
     ]
    }
   ],
   "source": [
    "print(array1)"
   ]
  },
  {
   "cell_type": "code",
   "execution_count": 43,
   "id": "9a39cd6d",
   "metadata": {},
   "outputs": [
    {
     "name": "stdout",
     "output_type": "stream",
     "text": [
      "[[-1 -2]\n",
      " [-3 -4]]\n"
     ]
    }
   ],
   "source": [
    " print(array2)"
   ]
  },
  {
   "cell_type": "code",
   "execution_count": 45,
   "id": "a20b4f3e",
   "metadata": {},
   "outputs": [],
   "source": [
    "array3=np.vstack((array1,array2)) #vertical birlestirme"
   ]
  },
  {
   "cell_type": "code",
   "execution_count": 46,
   "id": "3af9cbdb",
   "metadata": {},
   "outputs": [
    {
     "data": {
      "text/plain": [
       "array([[ 1,  2],\n",
       "       [ 3,  4],\n",
       "       [-1, -2],\n",
       "       [-3, -4]])"
      ]
     },
     "execution_count": 46,
     "metadata": {},
     "output_type": "execute_result"
    }
   ],
   "source": [
    "array3"
   ]
  },
  {
   "cell_type": "code",
   "execution_count": 47,
   "id": "a03315d8",
   "metadata": {},
   "outputs": [],
   "source": [
    "array4=np.hstack((array1,array2)) #horizontal birlestirme"
   ]
  },
  {
   "cell_type": "code",
   "execution_count": 48,
   "id": "17c08803",
   "metadata": {},
   "outputs": [
    {
     "data": {
      "text/plain": [
       "array([[ 1,  2, -1, -2],\n",
       "       [ 3,  4, -3, -4]])"
      ]
     },
     "execution_count": 48,
     "metadata": {},
     "output_type": "execute_result"
    }
   ],
   "source": [
    "array4"
   ]
  },
  {
   "cell_type": "code",
   "execution_count": 49,
   "id": "1c8c7640",
   "metadata": {},
   "outputs": [],
   "source": [
    "#CONVERT AND COPY ARRAY"
   ]
  },
  {
   "cell_type": "code",
   "execution_count": 50,
   "id": "2d4846ee",
   "metadata": {},
   "outputs": [],
   "source": [
    "liste=[1,2,3,4]                                               #list\n",
    "array=np.array(liste) #listeden arraye gecmek icin kullanılır. #np.array"
   ]
  },
  {
   "cell_type": "code",
   "execution_count": 51,
   "id": "ac0fe867",
   "metadata": {},
   "outputs": [],
   "source": [
    "liste2=list(array) #arrayden listeye gecmek icin kullanılır"
   ]
  },
  {
   "cell_type": "code",
   "execution_count": 52,
   "id": "4acd516c",
   "metadata": {},
   "outputs": [
    {
     "data": {
      "text/plain": [
       "[1, 2, 3, 4]"
      ]
     },
     "execution_count": 52,
     "metadata": {},
     "output_type": "execute_result"
    }
   ],
   "source": [
    "liste2"
   ]
  },
  {
   "cell_type": "code",
   "execution_count": 53,
   "id": "a6e232ff",
   "metadata": {},
   "outputs": [
    {
     "data": {
      "text/plain": [
       "list"
      ]
     },
     "execution_count": 53,
     "metadata": {},
     "output_type": "execute_result"
    }
   ],
   "source": [
    "type(liste2)"
   ]
  },
  {
   "cell_type": "code",
   "execution_count": 54,
   "id": "d4219a80",
   "metadata": {},
   "outputs": [],
   "source": [
    "a=np.array([1,2,3])\n",
    "b=a\n",
    "c=a"
   ]
  },
  {
   "cell_type": "code",
   "execution_count": 55,
   "id": "1b261db6",
   "metadata": {},
   "outputs": [],
   "source": [
    "b[0]=5"
   ]
  },
  {
   "cell_type": "code",
   "execution_count": 56,
   "id": "1abd7e9c",
   "metadata": {},
   "outputs": [
    {
     "name": "stdout",
     "output_type": "stream",
     "text": [
      "[5 2 3]\n"
     ]
    }
   ],
   "source": [
    "print(a) #b'nin sıfırıncı indexini degistirmeme ragmen a ve c 'de degisti."
   ]
  },
  {
   "cell_type": "code",
   "execution_count": 58,
   "id": "94e72966",
   "metadata": {},
   "outputs": [
    {
     "name": "stdout",
     "output_type": "stream",
     "text": [
      "[5 2 3]\n"
     ]
    }
   ],
   "source": [
    "print(c)"
   ]
  },
  {
   "cell_type": "code",
   "execution_count": 59,
   "id": "abbe1092",
   "metadata": {},
   "outputs": [],
   "source": [
    "#bunun sebebi np.array memory'de depolanirken bir deger olarak degilde memomryde bir alan olarak depolanıyor.\n",
    "#a , b , c icin memoryde aynı alanı kullandıgımdan iclerinde birini degistirdigimde digerleri de degismis oluyor."
   ]
  },
  {
   "cell_type": "code",
   "execution_count": 60,
   "id": "0fcb9de5",
   "metadata": {},
   "outputs": [],
   "source": [
    "d= np.array([1,2,3])\n",
    "e=d.copy()\n",
    "f=d.copy()\n",
    "f[0]=5"
   ]
  },
  {
   "cell_type": "code",
   "execution_count": 61,
   "id": "7ba87193",
   "metadata": {},
   "outputs": [
    {
     "data": {
      "text/plain": [
       "array([1, 2, 3])"
      ]
     },
     "execution_count": 61,
     "metadata": {},
     "output_type": "execute_result"
    }
   ],
   "source": [
    "e"
   ]
  },
  {
   "cell_type": "code",
   "execution_count": 62,
   "id": "6d0085af",
   "metadata": {},
   "outputs": [
    {
     "data": {
      "text/plain": [
       "array([5, 2, 3])"
      ]
     },
     "execution_count": 62,
     "metadata": {},
     "output_type": "execute_result"
    }
   ],
   "source": [
    "f #suan sadece f degisti, copy dedimiz icin memoryde uc farkli alan tutuyoruz."
   ]
  },
  {
   "cell_type": "code",
   "execution_count": 63,
   "id": "7d3a221c",
   "metadata": {},
   "outputs": [
    {
     "data": {
      "text/plain": [
       "array([1, 2, 3])"
      ]
     },
     "execution_count": 63,
     "metadata": {},
     "output_type": "execute_result"
    }
   ],
   "source": [
    "d"
   ]
  }
 ],
 "metadata": {
  "kernelspec": {
   "display_name": "Python 3 (ipykernel)",
   "language": "python",
   "name": "python3"
  },
  "language_info": {
   "codemirror_mode": {
    "name": "ipython",
    "version": 3
   },
   "file_extension": ".py",
   "mimetype": "text/x-python",
   "name": "python",
   "nbconvert_exporter": "python",
   "pygments_lexer": "ipython3",
   "version": "3.9.7"
  }
 },
 "nbformat": 4,
 "nbformat_minor": 5
}
